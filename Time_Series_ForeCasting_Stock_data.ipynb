{
 "cells": [
  {
   "cell_type": "code",
   "execution_count": 1,
   "metadata": {},
   "outputs": [],
   "source": [
    "import pandas as pd\n",
    "import numpy as np\n",
    "import matplotlib.pyplot as plt\n",
    "from pandas.tools.plotting import autocorrelation_plot\n",
    "from statsmodels.graphics.tsaplots import plot_pacf\n",
    "from statsmodels.tsa.arima_model import ARIMA, ARMAResults\n",
    "import datetime\n",
    "import sys\n",
    "import seaborn as sns\n",
    "import statsmodels\n",
    "import statsmodels.stats.diagnostic as diag\n",
    "from statsmodels.tsa.stattools import adfuller\n",
    "from scipy.stats.mstats import normaltest\n",
    "\n",
    "from matplotlib.pyplot import acorr\n",
    "plt.style.use('fivethirtyeight')\n",
    "%matplotlib inline"
   ]
  },
  {
   "cell_type": "code",
   "execution_count": 2,
   "metadata": {},
   "outputs": [],
   "source": [
    "df=pd.read_csv('data_stocks.csv')"
   ]
  },
  {
   "cell_type": "code",
   "execution_count": 3,
   "metadata": {},
   "outputs": [
    {
     "data": {
      "text/html": [
       "<div>\n",
       "<style scoped>\n",
       "    .dataframe tbody tr th:only-of-type {\n",
       "        vertical-align: middle;\n",
       "    }\n",
       "\n",
       "    .dataframe tbody tr th {\n",
       "        vertical-align: top;\n",
       "    }\n",
       "\n",
       "    .dataframe thead th {\n",
       "        text-align: right;\n",
       "    }\n",
       "</style>\n",
       "<table border=\"1\" class=\"dataframe\">\n",
       "  <thead>\n",
       "    <tr style=\"text-align: right;\">\n",
       "      <th></th>\n",
       "      <th>DATE</th>\n",
       "      <th>SP500</th>\n",
       "      <th>NASDAQ.AAL</th>\n",
       "      <th>NASDAQ.AAPL</th>\n",
       "      <th>NASDAQ.ADBE</th>\n",
       "      <th>NASDAQ.ADI</th>\n",
       "      <th>NASDAQ.ADP</th>\n",
       "      <th>NASDAQ.ADSK</th>\n",
       "      <th>NASDAQ.AKAM</th>\n",
       "      <th>NASDAQ.ALXN</th>\n",
       "      <th>...</th>\n",
       "      <th>NYSE.WYN</th>\n",
       "      <th>NYSE.XEC</th>\n",
       "      <th>NYSE.XEL</th>\n",
       "      <th>NYSE.XL</th>\n",
       "      <th>NYSE.XOM</th>\n",
       "      <th>NYSE.XRX</th>\n",
       "      <th>NYSE.XYL</th>\n",
       "      <th>NYSE.YUM</th>\n",
       "      <th>NYSE.ZBH</th>\n",
       "      <th>NYSE.ZTS</th>\n",
       "    </tr>\n",
       "  </thead>\n",
       "  <tbody>\n",
       "    <tr>\n",
       "      <th>0</th>\n",
       "      <td>1491226200</td>\n",
       "      <td>2363.6101</td>\n",
       "      <td>42.3300</td>\n",
       "      <td>143.6800</td>\n",
       "      <td>129.6300</td>\n",
       "      <td>82.040</td>\n",
       "      <td>102.2300</td>\n",
       "      <td>85.2200</td>\n",
       "      <td>59.760</td>\n",
       "      <td>121.52</td>\n",
       "      <td>...</td>\n",
       "      <td>84.370</td>\n",
       "      <td>119.035</td>\n",
       "      <td>44.40</td>\n",
       "      <td>39.88</td>\n",
       "      <td>82.03</td>\n",
       "      <td>7.36</td>\n",
       "      <td>50.22</td>\n",
       "      <td>63.86</td>\n",
       "      <td>122.000</td>\n",
       "      <td>53.350</td>\n",
       "    </tr>\n",
       "    <tr>\n",
       "      <th>1</th>\n",
       "      <td>1491226260</td>\n",
       "      <td>2364.1001</td>\n",
       "      <td>42.3600</td>\n",
       "      <td>143.7000</td>\n",
       "      <td>130.3200</td>\n",
       "      <td>82.080</td>\n",
       "      <td>102.1400</td>\n",
       "      <td>85.6500</td>\n",
       "      <td>59.840</td>\n",
       "      <td>121.48</td>\n",
       "      <td>...</td>\n",
       "      <td>84.370</td>\n",
       "      <td>119.035</td>\n",
       "      <td>44.11</td>\n",
       "      <td>39.88</td>\n",
       "      <td>82.03</td>\n",
       "      <td>7.38</td>\n",
       "      <td>50.22</td>\n",
       "      <td>63.74</td>\n",
       "      <td>121.770</td>\n",
       "      <td>53.350</td>\n",
       "    </tr>\n",
       "    <tr>\n",
       "      <th>2</th>\n",
       "      <td>1491226320</td>\n",
       "      <td>2362.6799</td>\n",
       "      <td>42.3100</td>\n",
       "      <td>143.6901</td>\n",
       "      <td>130.2250</td>\n",
       "      <td>82.030</td>\n",
       "      <td>102.2125</td>\n",
       "      <td>85.5100</td>\n",
       "      <td>59.795</td>\n",
       "      <td>121.93</td>\n",
       "      <td>...</td>\n",
       "      <td>84.585</td>\n",
       "      <td>119.260</td>\n",
       "      <td>44.09</td>\n",
       "      <td>39.98</td>\n",
       "      <td>82.02</td>\n",
       "      <td>7.36</td>\n",
       "      <td>50.12</td>\n",
       "      <td>63.75</td>\n",
       "      <td>121.700</td>\n",
       "      <td>53.365</td>\n",
       "    </tr>\n",
       "    <tr>\n",
       "      <th>3</th>\n",
       "      <td>1491226380</td>\n",
       "      <td>2364.3101</td>\n",
       "      <td>42.3700</td>\n",
       "      <td>143.6400</td>\n",
       "      <td>130.0729</td>\n",
       "      <td>82.000</td>\n",
       "      <td>102.1400</td>\n",
       "      <td>85.4872</td>\n",
       "      <td>59.620</td>\n",
       "      <td>121.44</td>\n",
       "      <td>...</td>\n",
       "      <td>84.460</td>\n",
       "      <td>119.260</td>\n",
       "      <td>44.25</td>\n",
       "      <td>39.99</td>\n",
       "      <td>82.02</td>\n",
       "      <td>7.35</td>\n",
       "      <td>50.16</td>\n",
       "      <td>63.88</td>\n",
       "      <td>121.700</td>\n",
       "      <td>53.380</td>\n",
       "    </tr>\n",
       "    <tr>\n",
       "      <th>4</th>\n",
       "      <td>1491226440</td>\n",
       "      <td>2364.8501</td>\n",
       "      <td>42.5378</td>\n",
       "      <td>143.6600</td>\n",
       "      <td>129.8800</td>\n",
       "      <td>82.035</td>\n",
       "      <td>102.0600</td>\n",
       "      <td>85.7001</td>\n",
       "      <td>59.620</td>\n",
       "      <td>121.60</td>\n",
       "      <td>...</td>\n",
       "      <td>84.470</td>\n",
       "      <td>119.610</td>\n",
       "      <td>44.11</td>\n",
       "      <td>39.96</td>\n",
       "      <td>82.03</td>\n",
       "      <td>7.36</td>\n",
       "      <td>50.20</td>\n",
       "      <td>63.91</td>\n",
       "      <td>121.695</td>\n",
       "      <td>53.240</td>\n",
       "    </tr>\n",
       "  </tbody>\n",
       "</table>\n",
       "<p>5 rows × 502 columns</p>\n",
       "</div>"
      ],
      "text/plain": [
       "         DATE      SP500  NASDAQ.AAL  NASDAQ.AAPL  NASDAQ.ADBE  NASDAQ.ADI  \\\n",
       "0  1491226200  2363.6101     42.3300     143.6800     129.6300      82.040   \n",
       "1  1491226260  2364.1001     42.3600     143.7000     130.3200      82.080   \n",
       "2  1491226320  2362.6799     42.3100     143.6901     130.2250      82.030   \n",
       "3  1491226380  2364.3101     42.3700     143.6400     130.0729      82.000   \n",
       "4  1491226440  2364.8501     42.5378     143.6600     129.8800      82.035   \n",
       "\n",
       "   NASDAQ.ADP  NASDAQ.ADSK  NASDAQ.AKAM  NASDAQ.ALXN    ...     NYSE.WYN  \\\n",
       "0    102.2300      85.2200       59.760       121.52    ...       84.370   \n",
       "1    102.1400      85.6500       59.840       121.48    ...       84.370   \n",
       "2    102.2125      85.5100       59.795       121.93    ...       84.585   \n",
       "3    102.1400      85.4872       59.620       121.44    ...       84.460   \n",
       "4    102.0600      85.7001       59.620       121.60    ...       84.470   \n",
       "\n",
       "   NYSE.XEC  NYSE.XEL  NYSE.XL  NYSE.XOM  NYSE.XRX  NYSE.XYL  NYSE.YUM  \\\n",
       "0   119.035     44.40    39.88     82.03      7.36     50.22     63.86   \n",
       "1   119.035     44.11    39.88     82.03      7.38     50.22     63.74   \n",
       "2   119.260     44.09    39.98     82.02      7.36     50.12     63.75   \n",
       "3   119.260     44.25    39.99     82.02      7.35     50.16     63.88   \n",
       "4   119.610     44.11    39.96     82.03      7.36     50.20     63.91   \n",
       "\n",
       "   NYSE.ZBH  NYSE.ZTS  \n",
       "0   122.000    53.350  \n",
       "1   121.770    53.350  \n",
       "2   121.700    53.365  \n",
       "3   121.700    53.380  \n",
       "4   121.695    53.240  \n",
       "\n",
       "[5 rows x 502 columns]"
      ]
     },
     "execution_count": 3,
     "metadata": {},
     "output_type": "execute_result"
    }
   ],
   "source": [
    "df.head()"
   ]
  },
  {
   "cell_type": "code",
   "execution_count": 4,
   "metadata": {},
   "outputs": [
    {
     "data": {
      "text/html": [
       "<div>\n",
       "<style scoped>\n",
       "    .dataframe tbody tr th:only-of-type {\n",
       "        vertical-align: middle;\n",
       "    }\n",
       "\n",
       "    .dataframe tbody tr th {\n",
       "        vertical-align: top;\n",
       "    }\n",
       "\n",
       "    .dataframe thead th {\n",
       "        text-align: right;\n",
       "    }\n",
       "</style>\n",
       "<table border=\"1\" class=\"dataframe\">\n",
       "  <thead>\n",
       "    <tr style=\"text-align: right;\">\n",
       "      <th></th>\n",
       "      <th>DATE</th>\n",
       "      <th>SP500</th>\n",
       "      <th>NASDAQ.AAL</th>\n",
       "      <th>NASDAQ.AAPL</th>\n",
       "      <th>NASDAQ.ADBE</th>\n",
       "      <th>NASDAQ.ADI</th>\n",
       "      <th>NASDAQ.ADP</th>\n",
       "      <th>NASDAQ.ADSK</th>\n",
       "      <th>NASDAQ.AKAM</th>\n",
       "      <th>NASDAQ.ALXN</th>\n",
       "      <th>...</th>\n",
       "      <th>NYSE.WYN</th>\n",
       "      <th>NYSE.XEC</th>\n",
       "      <th>NYSE.XEL</th>\n",
       "      <th>NYSE.XL</th>\n",
       "      <th>NYSE.XOM</th>\n",
       "      <th>NYSE.XRX</th>\n",
       "      <th>NYSE.XYL</th>\n",
       "      <th>NYSE.YUM</th>\n",
       "      <th>NYSE.ZBH</th>\n",
       "      <th>NYSE.ZTS</th>\n",
       "    </tr>\n",
       "  </thead>\n",
       "  <tbody>\n",
       "    <tr>\n",
       "      <th>count</th>\n",
       "      <td>4.126600e+04</td>\n",
       "      <td>41266.000000</td>\n",
       "      <td>41266.000000</td>\n",
       "      <td>41266.000000</td>\n",
       "      <td>41266.00000</td>\n",
       "      <td>41266.000000</td>\n",
       "      <td>41266.000000</td>\n",
       "      <td>41266.000000</td>\n",
       "      <td>41266.000000</td>\n",
       "      <td>41266.000000</td>\n",
       "      <td>...</td>\n",
       "      <td>41266.000000</td>\n",
       "      <td>41266.000000</td>\n",
       "      <td>41266.000000</td>\n",
       "      <td>41266.000000</td>\n",
       "      <td>41266.000000</td>\n",
       "      <td>41266.000000</td>\n",
       "      <td>41266.000000</td>\n",
       "      <td>41266.000000</td>\n",
       "      <td>41266.000000</td>\n",
       "      <td>41266.000000</td>\n",
       "    </tr>\n",
       "    <tr>\n",
       "      <th>mean</th>\n",
       "      <td>1.497749e+09</td>\n",
       "      <td>2421.537882</td>\n",
       "      <td>47.708346</td>\n",
       "      <td>150.453566</td>\n",
       "      <td>141.31793</td>\n",
       "      <td>79.446873</td>\n",
       "      <td>103.480398</td>\n",
       "      <td>102.998608</td>\n",
       "      <td>50.894352</td>\n",
       "      <td>122.981163</td>\n",
       "      <td>...</td>\n",
       "      <td>97.942211</td>\n",
       "      <td>104.740666</td>\n",
       "      <td>46.664402</td>\n",
       "      <td>43.043984</td>\n",
       "      <td>80.784595</td>\n",
       "      <td>19.300718</td>\n",
       "      <td>54.541988</td>\n",
       "      <td>71.757891</td>\n",
       "      <td>121.423515</td>\n",
       "      <td>60.183874</td>\n",
       "    </tr>\n",
       "    <tr>\n",
       "      <th>std</th>\n",
       "      <td>3.822211e+06</td>\n",
       "      <td>39.557135</td>\n",
       "      <td>3.259377</td>\n",
       "      <td>6.236826</td>\n",
       "      <td>6.91674</td>\n",
       "      <td>2.000283</td>\n",
       "      <td>4.424244</td>\n",
       "      <td>9.389788</td>\n",
       "      <td>4.833931</td>\n",
       "      <td>11.252010</td>\n",
       "      <td>...</td>\n",
       "      <td>5.411795</td>\n",
       "      <td>10.606694</td>\n",
       "      <td>1.508444</td>\n",
       "      <td>1.714533</td>\n",
       "      <td>1.840989</td>\n",
       "      <td>11.686532</td>\n",
       "      <td>3.526321</td>\n",
       "      <td>4.038272</td>\n",
       "      <td>5.607070</td>\n",
       "      <td>3.346887</td>\n",
       "    </tr>\n",
       "    <tr>\n",
       "      <th>min</th>\n",
       "      <td>1.491226e+09</td>\n",
       "      <td>2329.139900</td>\n",
       "      <td>40.830000</td>\n",
       "      <td>140.160000</td>\n",
       "      <td>128.24000</td>\n",
       "      <td>74.800000</td>\n",
       "      <td>95.870000</td>\n",
       "      <td>83.000000</td>\n",
       "      <td>44.650000</td>\n",
       "      <td>96.250000</td>\n",
       "      <td>...</td>\n",
       "      <td>83.410000</td>\n",
       "      <td>89.510000</td>\n",
       "      <td>44.090000</td>\n",
       "      <td>39.120000</td>\n",
       "      <td>76.060000</td>\n",
       "      <td>6.660000</td>\n",
       "      <td>48.820000</td>\n",
       "      <td>63.180000</td>\n",
       "      <td>110.120000</td>\n",
       "      <td>52.300000</td>\n",
       "    </tr>\n",
       "    <tr>\n",
       "      <th>25%</th>\n",
       "      <td>1.494432e+09</td>\n",
       "      <td>2390.860100</td>\n",
       "      <td>44.945400</td>\n",
       "      <td>144.640000</td>\n",
       "      <td>135.19500</td>\n",
       "      <td>78.030000</td>\n",
       "      <td>101.300000</td>\n",
       "      <td>94.820000</td>\n",
       "      <td>47.440000</td>\n",
       "      <td>116.950000</td>\n",
       "      <td>...</td>\n",
       "      <td>95.960000</td>\n",
       "      <td>95.010000</td>\n",
       "      <td>45.155000</td>\n",
       "      <td>41.955000</td>\n",
       "      <td>80.220000</td>\n",
       "      <td>7.045000</td>\n",
       "      <td>51.630000</td>\n",
       "      <td>69.110000</td>\n",
       "      <td>117.580000</td>\n",
       "      <td>59.620000</td>\n",
       "    </tr>\n",
       "    <tr>\n",
       "      <th>50%</th>\n",
       "      <td>1.497638e+09</td>\n",
       "      <td>2430.149900</td>\n",
       "      <td>48.360000</td>\n",
       "      <td>149.945000</td>\n",
       "      <td>142.26000</td>\n",
       "      <td>79.410000</td>\n",
       "      <td>102.440000</td>\n",
       "      <td>106.820000</td>\n",
       "      <td>49.509900</td>\n",
       "      <td>123.620000</td>\n",
       "      <td>...</td>\n",
       "      <td>99.250000</td>\n",
       "      <td>99.660000</td>\n",
       "      <td>46.810000</td>\n",
       "      <td>43.200000</td>\n",
       "      <td>81.150000</td>\n",
       "      <td>27.890000</td>\n",
       "      <td>53.850000</td>\n",
       "      <td>73.470000</td>\n",
       "      <td>120.650000</td>\n",
       "      <td>61.585600</td>\n",
       "    </tr>\n",
       "    <tr>\n",
       "      <th>75%</th>\n",
       "      <td>1.501090e+09</td>\n",
       "      <td>2448.820100</td>\n",
       "      <td>50.180000</td>\n",
       "      <td>155.065000</td>\n",
       "      <td>147.10000</td>\n",
       "      <td>80.580000</td>\n",
       "      <td>104.660000</td>\n",
       "      <td>110.490000</td>\n",
       "      <td>52.230000</td>\n",
       "      <td>132.218800</td>\n",
       "      <td>...</td>\n",
       "      <td>102.080000</td>\n",
       "      <td>117.034700</td>\n",
       "      <td>47.730000</td>\n",
       "      <td>44.370000</td>\n",
       "      <td>82.062050</td>\n",
       "      <td>30.470000</td>\n",
       "      <td>57.140000</td>\n",
       "      <td>74.750000</td>\n",
       "      <td>126.000000</td>\n",
       "      <td>62.540000</td>\n",
       "    </tr>\n",
       "    <tr>\n",
       "      <th>max</th>\n",
       "      <td>1.504210e+09</td>\n",
       "      <td>2490.649900</td>\n",
       "      <td>54.475000</td>\n",
       "      <td>164.510000</td>\n",
       "      <td>155.33000</td>\n",
       "      <td>90.440000</td>\n",
       "      <td>121.770000</td>\n",
       "      <td>119.270000</td>\n",
       "      <td>62.560000</td>\n",
       "      <td>142.875000</td>\n",
       "      <td>...</td>\n",
       "      <td>106.375000</td>\n",
       "      <td>123.870000</td>\n",
       "      <td>49.660000</td>\n",
       "      <td>47.210000</td>\n",
       "      <td>83.630000</td>\n",
       "      <td>32.930000</td>\n",
       "      <td>62.130000</td>\n",
       "      <td>77.120000</td>\n",
       "      <td>133.450000</td>\n",
       "      <td>63.840000</td>\n",
       "    </tr>\n",
       "  </tbody>\n",
       "</table>\n",
       "<p>8 rows × 502 columns</p>\n",
       "</div>"
      ],
      "text/plain": [
       "               DATE         SP500    NASDAQ.AAL   NASDAQ.AAPL  NASDAQ.ADBE  \\\n",
       "count  4.126600e+04  41266.000000  41266.000000  41266.000000  41266.00000   \n",
       "mean   1.497749e+09   2421.537882     47.708346    150.453566    141.31793   \n",
       "std    3.822211e+06     39.557135      3.259377      6.236826      6.91674   \n",
       "min    1.491226e+09   2329.139900     40.830000    140.160000    128.24000   \n",
       "25%    1.494432e+09   2390.860100     44.945400    144.640000    135.19500   \n",
       "50%    1.497638e+09   2430.149900     48.360000    149.945000    142.26000   \n",
       "75%    1.501090e+09   2448.820100     50.180000    155.065000    147.10000   \n",
       "max    1.504210e+09   2490.649900     54.475000    164.510000    155.33000   \n",
       "\n",
       "         NASDAQ.ADI    NASDAQ.ADP   NASDAQ.ADSK   NASDAQ.AKAM   NASDAQ.ALXN  \\\n",
       "count  41266.000000  41266.000000  41266.000000  41266.000000  41266.000000   \n",
       "mean      79.446873    103.480398    102.998608     50.894352    122.981163   \n",
       "std        2.000283      4.424244      9.389788      4.833931     11.252010   \n",
       "min       74.800000     95.870000     83.000000     44.650000     96.250000   \n",
       "25%       78.030000    101.300000     94.820000     47.440000    116.950000   \n",
       "50%       79.410000    102.440000    106.820000     49.509900    123.620000   \n",
       "75%       80.580000    104.660000    110.490000     52.230000    132.218800   \n",
       "max       90.440000    121.770000    119.270000     62.560000    142.875000   \n",
       "\n",
       "           ...           NYSE.WYN      NYSE.XEC      NYSE.XEL       NYSE.XL  \\\n",
       "count      ...       41266.000000  41266.000000  41266.000000  41266.000000   \n",
       "mean       ...          97.942211    104.740666     46.664402     43.043984   \n",
       "std        ...           5.411795     10.606694      1.508444      1.714533   \n",
       "min        ...          83.410000     89.510000     44.090000     39.120000   \n",
       "25%        ...          95.960000     95.010000     45.155000     41.955000   \n",
       "50%        ...          99.250000     99.660000     46.810000     43.200000   \n",
       "75%        ...         102.080000    117.034700     47.730000     44.370000   \n",
       "max        ...         106.375000    123.870000     49.660000     47.210000   \n",
       "\n",
       "           NYSE.XOM      NYSE.XRX      NYSE.XYL      NYSE.YUM      NYSE.ZBH  \\\n",
       "count  41266.000000  41266.000000  41266.000000  41266.000000  41266.000000   \n",
       "mean      80.784595     19.300718     54.541988     71.757891    121.423515   \n",
       "std        1.840989     11.686532      3.526321      4.038272      5.607070   \n",
       "min       76.060000      6.660000     48.820000     63.180000    110.120000   \n",
       "25%       80.220000      7.045000     51.630000     69.110000    117.580000   \n",
       "50%       81.150000     27.890000     53.850000     73.470000    120.650000   \n",
       "75%       82.062050     30.470000     57.140000     74.750000    126.000000   \n",
       "max       83.630000     32.930000     62.130000     77.120000    133.450000   \n",
       "\n",
       "           NYSE.ZTS  \n",
       "count  41266.000000  \n",
       "mean      60.183874  \n",
       "std        3.346887  \n",
       "min       52.300000  \n",
       "25%       59.620000  \n",
       "50%       61.585600  \n",
       "75%       62.540000  \n",
       "max       63.840000  \n",
       "\n",
       "[8 rows x 502 columns]"
      ]
     },
     "execution_count": 4,
     "metadata": {},
     "output_type": "execute_result"
    }
   ],
   "source": [
    "df.describe()"
   ]
  },
  {
   "cell_type": "code",
   "execution_count": 5,
   "metadata": {},
   "outputs": [
    {
     "name": "stdout",
     "output_type": "stream",
     "text": [
      "<class 'pandas.core.frame.DataFrame'>\n",
      "RangeIndex: 41266 entries, 0 to 41265\n",
      "Columns: 502 entries, DATE to NYSE.ZTS\n",
      "dtypes: float64(501), int64(1)\n",
      "memory usage: 158.0 MB\n"
     ]
    }
   ],
   "source": [
    "df.info()"
   ]
  },
  {
   "cell_type": "code",
   "execution_count": 6,
   "metadata": {},
   "outputs": [],
   "source": [
    "df['DATE'] = (pd.to_datetime(df['DATE'], unit='s'))"
   ]
  },
  {
   "cell_type": "code",
   "execution_count": 7,
   "metadata": {},
   "outputs": [
    {
     "data": {
      "text/html": [
       "<div>\n",
       "<style scoped>\n",
       "    .dataframe tbody tr th:only-of-type {\n",
       "        vertical-align: middle;\n",
       "    }\n",
       "\n",
       "    .dataframe tbody tr th {\n",
       "        vertical-align: top;\n",
       "    }\n",
       "\n",
       "    .dataframe thead th {\n",
       "        text-align: right;\n",
       "    }\n",
       "</style>\n",
       "<table border=\"1\" class=\"dataframe\">\n",
       "  <thead>\n",
       "    <tr style=\"text-align: right;\">\n",
       "      <th></th>\n",
       "      <th>DATE</th>\n",
       "      <th>SP500</th>\n",
       "      <th>NASDAQ.AAL</th>\n",
       "      <th>NASDAQ.AAPL</th>\n",
       "      <th>NASDAQ.ADBE</th>\n",
       "      <th>NASDAQ.ADI</th>\n",
       "      <th>NASDAQ.ADP</th>\n",
       "      <th>NASDAQ.ADSK</th>\n",
       "      <th>NASDAQ.AKAM</th>\n",
       "      <th>NASDAQ.ALXN</th>\n",
       "      <th>...</th>\n",
       "      <th>NYSE.WYN</th>\n",
       "      <th>NYSE.XEC</th>\n",
       "      <th>NYSE.XEL</th>\n",
       "      <th>NYSE.XL</th>\n",
       "      <th>NYSE.XOM</th>\n",
       "      <th>NYSE.XRX</th>\n",
       "      <th>NYSE.XYL</th>\n",
       "      <th>NYSE.YUM</th>\n",
       "      <th>NYSE.ZBH</th>\n",
       "      <th>NYSE.ZTS</th>\n",
       "    </tr>\n",
       "  </thead>\n",
       "  <tbody>\n",
       "    <tr>\n",
       "      <th>0</th>\n",
       "      <td>2017-04-03 13:30:00</td>\n",
       "      <td>2363.6101</td>\n",
       "      <td>42.3300</td>\n",
       "      <td>143.6800</td>\n",
       "      <td>129.6300</td>\n",
       "      <td>82.040</td>\n",
       "      <td>102.2300</td>\n",
       "      <td>85.2200</td>\n",
       "      <td>59.760</td>\n",
       "      <td>121.52</td>\n",
       "      <td>...</td>\n",
       "      <td>84.370</td>\n",
       "      <td>119.035</td>\n",
       "      <td>44.40</td>\n",
       "      <td>39.88</td>\n",
       "      <td>82.03</td>\n",
       "      <td>7.36</td>\n",
       "      <td>50.22</td>\n",
       "      <td>63.86</td>\n",
       "      <td>122.000</td>\n",
       "      <td>53.350</td>\n",
       "    </tr>\n",
       "    <tr>\n",
       "      <th>1</th>\n",
       "      <td>2017-04-03 13:31:00</td>\n",
       "      <td>2364.1001</td>\n",
       "      <td>42.3600</td>\n",
       "      <td>143.7000</td>\n",
       "      <td>130.3200</td>\n",
       "      <td>82.080</td>\n",
       "      <td>102.1400</td>\n",
       "      <td>85.6500</td>\n",
       "      <td>59.840</td>\n",
       "      <td>121.48</td>\n",
       "      <td>...</td>\n",
       "      <td>84.370</td>\n",
       "      <td>119.035</td>\n",
       "      <td>44.11</td>\n",
       "      <td>39.88</td>\n",
       "      <td>82.03</td>\n",
       "      <td>7.38</td>\n",
       "      <td>50.22</td>\n",
       "      <td>63.74</td>\n",
       "      <td>121.770</td>\n",
       "      <td>53.350</td>\n",
       "    </tr>\n",
       "    <tr>\n",
       "      <th>2</th>\n",
       "      <td>2017-04-03 13:32:00</td>\n",
       "      <td>2362.6799</td>\n",
       "      <td>42.3100</td>\n",
       "      <td>143.6901</td>\n",
       "      <td>130.2250</td>\n",
       "      <td>82.030</td>\n",
       "      <td>102.2125</td>\n",
       "      <td>85.5100</td>\n",
       "      <td>59.795</td>\n",
       "      <td>121.93</td>\n",
       "      <td>...</td>\n",
       "      <td>84.585</td>\n",
       "      <td>119.260</td>\n",
       "      <td>44.09</td>\n",
       "      <td>39.98</td>\n",
       "      <td>82.02</td>\n",
       "      <td>7.36</td>\n",
       "      <td>50.12</td>\n",
       "      <td>63.75</td>\n",
       "      <td>121.700</td>\n",
       "      <td>53.365</td>\n",
       "    </tr>\n",
       "    <tr>\n",
       "      <th>3</th>\n",
       "      <td>2017-04-03 13:33:00</td>\n",
       "      <td>2364.3101</td>\n",
       "      <td>42.3700</td>\n",
       "      <td>143.6400</td>\n",
       "      <td>130.0729</td>\n",
       "      <td>82.000</td>\n",
       "      <td>102.1400</td>\n",
       "      <td>85.4872</td>\n",
       "      <td>59.620</td>\n",
       "      <td>121.44</td>\n",
       "      <td>...</td>\n",
       "      <td>84.460</td>\n",
       "      <td>119.260</td>\n",
       "      <td>44.25</td>\n",
       "      <td>39.99</td>\n",
       "      <td>82.02</td>\n",
       "      <td>7.35</td>\n",
       "      <td>50.16</td>\n",
       "      <td>63.88</td>\n",
       "      <td>121.700</td>\n",
       "      <td>53.380</td>\n",
       "    </tr>\n",
       "    <tr>\n",
       "      <th>4</th>\n",
       "      <td>2017-04-03 13:34:00</td>\n",
       "      <td>2364.8501</td>\n",
       "      <td>42.5378</td>\n",
       "      <td>143.6600</td>\n",
       "      <td>129.8800</td>\n",
       "      <td>82.035</td>\n",
       "      <td>102.0600</td>\n",
       "      <td>85.7001</td>\n",
       "      <td>59.620</td>\n",
       "      <td>121.60</td>\n",
       "      <td>...</td>\n",
       "      <td>84.470</td>\n",
       "      <td>119.610</td>\n",
       "      <td>44.11</td>\n",
       "      <td>39.96</td>\n",
       "      <td>82.03</td>\n",
       "      <td>7.36</td>\n",
       "      <td>50.20</td>\n",
       "      <td>63.91</td>\n",
       "      <td>121.695</td>\n",
       "      <td>53.240</td>\n",
       "    </tr>\n",
       "  </tbody>\n",
       "</table>\n",
       "<p>5 rows × 502 columns</p>\n",
       "</div>"
      ],
      "text/plain": [
       "                 DATE      SP500  NASDAQ.AAL  NASDAQ.AAPL  NASDAQ.ADBE  \\\n",
       "0 2017-04-03 13:30:00  2363.6101     42.3300     143.6800     129.6300   \n",
       "1 2017-04-03 13:31:00  2364.1001     42.3600     143.7000     130.3200   \n",
       "2 2017-04-03 13:32:00  2362.6799     42.3100     143.6901     130.2250   \n",
       "3 2017-04-03 13:33:00  2364.3101     42.3700     143.6400     130.0729   \n",
       "4 2017-04-03 13:34:00  2364.8501     42.5378     143.6600     129.8800   \n",
       "\n",
       "   NASDAQ.ADI  NASDAQ.ADP  NASDAQ.ADSK  NASDAQ.AKAM  NASDAQ.ALXN    ...     \\\n",
       "0      82.040    102.2300      85.2200       59.760       121.52    ...      \n",
       "1      82.080    102.1400      85.6500       59.840       121.48    ...      \n",
       "2      82.030    102.2125      85.5100       59.795       121.93    ...      \n",
       "3      82.000    102.1400      85.4872       59.620       121.44    ...      \n",
       "4      82.035    102.0600      85.7001       59.620       121.60    ...      \n",
       "\n",
       "   NYSE.WYN  NYSE.XEC  NYSE.XEL  NYSE.XL  NYSE.XOM  NYSE.XRX  NYSE.XYL  \\\n",
       "0    84.370   119.035     44.40    39.88     82.03      7.36     50.22   \n",
       "1    84.370   119.035     44.11    39.88     82.03      7.38     50.22   \n",
       "2    84.585   119.260     44.09    39.98     82.02      7.36     50.12   \n",
       "3    84.460   119.260     44.25    39.99     82.02      7.35     50.16   \n",
       "4    84.470   119.610     44.11    39.96     82.03      7.36     50.20   \n",
       "\n",
       "   NYSE.YUM  NYSE.ZBH  NYSE.ZTS  \n",
       "0     63.86   122.000    53.350  \n",
       "1     63.74   121.770    53.350  \n",
       "2     63.75   121.700    53.365  \n",
       "3     63.88   121.700    53.380  \n",
       "4     63.91   121.695    53.240  \n",
       "\n",
       "[5 rows x 502 columns]"
      ]
     },
     "execution_count": 7,
     "metadata": {},
     "output_type": "execute_result"
    }
   ],
   "source": [
    "df.head()"
   ]
  },
  {
   "cell_type": "code",
   "execution_count": 8,
   "metadata": {},
   "outputs": [],
   "source": [
    "closed = {}\n",
    "for col in df.columns[1:]:\n",
    "    try :\n",
    "        df_col = col.split('.')[1]\n",
    "    except :\n",
    "        df_col = col\n",
    "    Close = df.groupby([df['DATE'].dt.date])[col].last()\n",
    "        \n",
    "    df2=pd.DataFrame([Close])\n",
    "    df2=df2.transpose()\n",
    "    closed[col]=df2"
   ]
  },
  {
   "cell_type": "code",
   "execution_count": 9,
   "metadata": {},
   "outputs": [
    {
     "data": {
      "text/plain": [
       "dict"
      ]
     },
     "execution_count": 9,
     "metadata": {},
     "output_type": "execute_result"
    }
   ],
   "source": [
    "type(closed)"
   ]
  },
  {
   "cell_type": "code",
   "execution_count": 10,
   "metadata": {},
   "outputs": [
    {
     "data": {
      "text/html": [
       "<div>\n",
       "<style scoped>\n",
       "    .dataframe tbody tr th:only-of-type {\n",
       "        vertical-align: middle;\n",
       "    }\n",
       "\n",
       "    .dataframe tbody tr th {\n",
       "        vertical-align: top;\n",
       "    }\n",
       "\n",
       "    .dataframe thead th {\n",
       "        text-align: right;\n",
       "    }\n",
       "</style>\n",
       "<table border=\"1\" class=\"dataframe\">\n",
       "  <thead>\n",
       "    <tr style=\"text-align: right;\">\n",
       "      <th></th>\n",
       "      <th>NASDAQ.CSCO</th>\n",
       "    </tr>\n",
       "    <tr>\n",
       "      <th>DATE</th>\n",
       "      <th></th>\n",
       "    </tr>\n",
       "  </thead>\n",
       "  <tbody>\n",
       "    <tr>\n",
       "      <th>2017-04-03</th>\n",
       "      <td>33.580</td>\n",
       "    </tr>\n",
       "    <tr>\n",
       "      <th>2017-04-04</th>\n",
       "      <td>33.410</td>\n",
       "    </tr>\n",
       "    <tr>\n",
       "      <th>2017-04-05</th>\n",
       "      <td>33.000</td>\n",
       "    </tr>\n",
       "    <tr>\n",
       "      <th>2017-04-06</th>\n",
       "      <td>33.075</td>\n",
       "    </tr>\n",
       "    <tr>\n",
       "      <th>2017-04-07</th>\n",
       "      <td>32.960</td>\n",
       "    </tr>\n",
       "    <tr>\n",
       "      <th>2017-04-10</th>\n",
       "      <td>33.020</td>\n",
       "    </tr>\n",
       "    <tr>\n",
       "      <th>2017-04-11</th>\n",
       "      <td>32.920</td>\n",
       "    </tr>\n",
       "    <tr>\n",
       "      <th>2017-04-12</th>\n",
       "      <td>32.620</td>\n",
       "    </tr>\n",
       "    <tr>\n",
       "      <th>2017-04-13</th>\n",
       "      <td>32.420</td>\n",
       "    </tr>\n",
       "    <tr>\n",
       "      <th>2017-04-17</th>\n",
       "      <td>32.610</td>\n",
       "    </tr>\n",
       "    <tr>\n",
       "      <th>2017-04-18</th>\n",
       "      <td>32.670</td>\n",
       "    </tr>\n",
       "    <tr>\n",
       "      <th>2017-04-19</th>\n",
       "      <td>32.650</td>\n",
       "    </tr>\n",
       "    <tr>\n",
       "      <th>2017-04-20</th>\n",
       "      <td>32.830</td>\n",
       "    </tr>\n",
       "    <tr>\n",
       "      <th>2017-04-21</th>\n",
       "      <td>32.820</td>\n",
       "    </tr>\n",
       "    <tr>\n",
       "      <th>2017-04-24</th>\n",
       "      <td>33.280</td>\n",
       "    </tr>\n",
       "    <tr>\n",
       "      <th>2017-04-25</th>\n",
       "      <td>33.420</td>\n",
       "    </tr>\n",
       "    <tr>\n",
       "      <th>2017-04-26</th>\n",
       "      <td>33.400</td>\n",
       "    </tr>\n",
       "    <tr>\n",
       "      <th>2017-04-27</th>\n",
       "      <td>33.750</td>\n",
       "    </tr>\n",
       "    <tr>\n",
       "      <th>2017-04-28</th>\n",
       "      <td>34.060</td>\n",
       "    </tr>\n",
       "    <tr>\n",
       "      <th>2017-05-01</th>\n",
       "      <td>33.970</td>\n",
       "    </tr>\n",
       "    <tr>\n",
       "      <th>2017-05-02</th>\n",
       "      <td>34.230</td>\n",
       "    </tr>\n",
       "    <tr>\n",
       "      <th>2017-05-03</th>\n",
       "      <td>34.250</td>\n",
       "    </tr>\n",
       "    <tr>\n",
       "      <th>2017-05-04</th>\n",
       "      <td>34.180</td>\n",
       "    </tr>\n",
       "    <tr>\n",
       "      <th>2017-05-05</th>\n",
       "      <td>34.390</td>\n",
       "    </tr>\n",
       "    <tr>\n",
       "      <th>2017-05-08</th>\n",
       "      <td>34.290</td>\n",
       "    </tr>\n",
       "    <tr>\n",
       "      <th>2017-05-09</th>\n",
       "      <td>33.900</td>\n",
       "    </tr>\n",
       "    <tr>\n",
       "      <th>2017-05-10</th>\n",
       "      <td>33.740</td>\n",
       "    </tr>\n",
       "    <tr>\n",
       "      <th>2017-05-11</th>\n",
       "      <td>33.630</td>\n",
       "    </tr>\n",
       "    <tr>\n",
       "      <th>2017-05-12</th>\n",
       "      <td>33.445</td>\n",
       "    </tr>\n",
       "    <tr>\n",
       "      <th>2017-05-15</th>\n",
       "      <td>34.230</td>\n",
       "    </tr>\n",
       "    <tr>\n",
       "      <th>...</th>\n",
       "      <td>...</td>\n",
       "    </tr>\n",
       "    <tr>\n",
       "      <th>2017-07-21</th>\n",
       "      <td>31.840</td>\n",
       "    </tr>\n",
       "    <tr>\n",
       "      <th>2017-07-24</th>\n",
       "      <td>31.860</td>\n",
       "    </tr>\n",
       "    <tr>\n",
       "      <th>2017-07-25</th>\n",
       "      <td>32.120</td>\n",
       "    </tr>\n",
       "    <tr>\n",
       "      <th>2017-07-26</th>\n",
       "      <td>31.660</td>\n",
       "    </tr>\n",
       "    <tr>\n",
       "      <th>2017-07-27</th>\n",
       "      <td>31.570</td>\n",
       "    </tr>\n",
       "    <tr>\n",
       "      <th>2017-07-28</th>\n",
       "      <td>31.520</td>\n",
       "    </tr>\n",
       "    <tr>\n",
       "      <th>2017-07-31</th>\n",
       "      <td>31.450</td>\n",
       "    </tr>\n",
       "    <tr>\n",
       "      <th>2017-08-01</th>\n",
       "      <td>31.650</td>\n",
       "    </tr>\n",
       "    <tr>\n",
       "      <th>2017-08-02</th>\n",
       "      <td>31.520</td>\n",
       "    </tr>\n",
       "    <tr>\n",
       "      <th>2017-08-03</th>\n",
       "      <td>31.560</td>\n",
       "    </tr>\n",
       "    <tr>\n",
       "      <th>2017-08-04</th>\n",
       "      <td>31.800</td>\n",
       "    </tr>\n",
       "    <tr>\n",
       "      <th>2017-08-07</th>\n",
       "      <td>31.840</td>\n",
       "    </tr>\n",
       "    <tr>\n",
       "      <th>2017-08-08</th>\n",
       "      <td>31.670</td>\n",
       "    </tr>\n",
       "    <tr>\n",
       "      <th>2017-08-09</th>\n",
       "      <td>31.620</td>\n",
       "    </tr>\n",
       "    <tr>\n",
       "      <th>2017-08-10</th>\n",
       "      <td>31.000</td>\n",
       "    </tr>\n",
       "    <tr>\n",
       "      <th>2017-08-11</th>\n",
       "      <td>31.470</td>\n",
       "    </tr>\n",
       "    <tr>\n",
       "      <th>2017-08-14</th>\n",
       "      <td>31.840</td>\n",
       "    </tr>\n",
       "    <tr>\n",
       "      <th>2017-08-15</th>\n",
       "      <td>32.090</td>\n",
       "    </tr>\n",
       "    <tr>\n",
       "      <th>2017-08-16</th>\n",
       "      <td>32.340</td>\n",
       "    </tr>\n",
       "    <tr>\n",
       "      <th>2017-08-17</th>\n",
       "      <td>31.040</td>\n",
       "    </tr>\n",
       "    <tr>\n",
       "      <th>2017-08-18</th>\n",
       "      <td>30.370</td>\n",
       "    </tr>\n",
       "    <tr>\n",
       "      <th>2017-08-21</th>\n",
       "      <td>30.680</td>\n",
       "    </tr>\n",
       "    <tr>\n",
       "      <th>2017-08-22</th>\n",
       "      <td>31.270</td>\n",
       "    </tr>\n",
       "    <tr>\n",
       "      <th>2017-08-23</th>\n",
       "      <td>30.920</td>\n",
       "    </tr>\n",
       "    <tr>\n",
       "      <th>2017-08-24</th>\n",
       "      <td>31.240</td>\n",
       "    </tr>\n",
       "    <tr>\n",
       "      <th>2017-08-25</th>\n",
       "      <td>31.440</td>\n",
       "    </tr>\n",
       "    <tr>\n",
       "      <th>2017-08-28</th>\n",
       "      <td>31.540</td>\n",
       "    </tr>\n",
       "    <tr>\n",
       "      <th>2017-08-29</th>\n",
       "      <td>31.480</td>\n",
       "    </tr>\n",
       "    <tr>\n",
       "      <th>2017-08-30</th>\n",
       "      <td>31.990</td>\n",
       "    </tr>\n",
       "    <tr>\n",
       "      <th>2017-08-31</th>\n",
       "      <td>32.225</td>\n",
       "    </tr>\n",
       "  </tbody>\n",
       "</table>\n",
       "<p>106 rows × 1 columns</p>\n",
       "</div>"
      ],
      "text/plain": [
       "            NASDAQ.CSCO\n",
       "DATE                   \n",
       "2017-04-03       33.580\n",
       "2017-04-04       33.410\n",
       "2017-04-05       33.000\n",
       "2017-04-06       33.075\n",
       "2017-04-07       32.960\n",
       "2017-04-10       33.020\n",
       "2017-04-11       32.920\n",
       "2017-04-12       32.620\n",
       "2017-04-13       32.420\n",
       "2017-04-17       32.610\n",
       "2017-04-18       32.670\n",
       "2017-04-19       32.650\n",
       "2017-04-20       32.830\n",
       "2017-04-21       32.820\n",
       "2017-04-24       33.280\n",
       "2017-04-25       33.420\n",
       "2017-04-26       33.400\n",
       "2017-04-27       33.750\n",
       "2017-04-28       34.060\n",
       "2017-05-01       33.970\n",
       "2017-05-02       34.230\n",
       "2017-05-03       34.250\n",
       "2017-05-04       34.180\n",
       "2017-05-05       34.390\n",
       "2017-05-08       34.290\n",
       "2017-05-09       33.900\n",
       "2017-05-10       33.740\n",
       "2017-05-11       33.630\n",
       "2017-05-12       33.445\n",
       "2017-05-15       34.230\n",
       "...                 ...\n",
       "2017-07-21       31.840\n",
       "2017-07-24       31.860\n",
       "2017-07-25       32.120\n",
       "2017-07-26       31.660\n",
       "2017-07-27       31.570\n",
       "2017-07-28       31.520\n",
       "2017-07-31       31.450\n",
       "2017-08-01       31.650\n",
       "2017-08-02       31.520\n",
       "2017-08-03       31.560\n",
       "2017-08-04       31.800\n",
       "2017-08-07       31.840\n",
       "2017-08-08       31.670\n",
       "2017-08-09       31.620\n",
       "2017-08-10       31.000\n",
       "2017-08-11       31.470\n",
       "2017-08-14       31.840\n",
       "2017-08-15       32.090\n",
       "2017-08-16       32.340\n",
       "2017-08-17       31.040\n",
       "2017-08-18       30.370\n",
       "2017-08-21       30.680\n",
       "2017-08-22       31.270\n",
       "2017-08-23       30.920\n",
       "2017-08-24       31.240\n",
       "2017-08-25       31.440\n",
       "2017-08-28       31.540\n",
       "2017-08-29       31.480\n",
       "2017-08-30       31.990\n",
       "2017-08-31       32.225\n",
       "\n",
       "[106 rows x 1 columns]"
      ]
     },
     "execution_count": 10,
     "metadata": {},
     "output_type": "execute_result"
    }
   ],
   "source": [
    "closed.get('NASDAQ.CSCO')"
   ]
  },
  {
   "cell_type": "code",
   "execution_count": 11,
   "metadata": {},
   "outputs": [],
   "source": [
    "df_AAPL=closed.get('NASDAQ.AAPL')\n",
    "df_ADP=closed.get('NASDAQ.ADP')\n",
    "df_CBOE=closed.get('NASDAQ.CBOE')\n",
    "df_CSCO=closed.get('NASDAQ.CSCO')\n",
    "df_EBAY=closed.get('NASDAQ.EBAY')"
   ]
  },
  {
   "cell_type": "code",
   "execution_count": 12,
   "metadata": {},
   "outputs": [
    {
     "data": {
      "text/plain": [
       "pandas.core.frame.DataFrame"
      ]
     },
     "execution_count": 12,
     "metadata": {},
     "output_type": "execute_result"
    }
   ],
   "source": [
    "type(df_CSCO)"
   ]
  },
  {
   "cell_type": "code",
   "execution_count": 13,
   "metadata": {},
   "outputs": [
    {
     "data": {
      "text/html": [
       "<div>\n",
       "<style scoped>\n",
       "    .dataframe tbody tr th:only-of-type {\n",
       "        vertical-align: middle;\n",
       "    }\n",
       "\n",
       "    .dataframe tbody tr th {\n",
       "        vertical-align: top;\n",
       "    }\n",
       "\n",
       "    .dataframe thead th {\n",
       "        text-align: right;\n",
       "    }\n",
       "</style>\n",
       "<table border=\"1\" class=\"dataframe\">\n",
       "  <thead>\n",
       "    <tr style=\"text-align: right;\">\n",
       "      <th></th>\n",
       "      <th>DATE</th>\n",
       "      <th>NASDAQ.EBAY</th>\n",
       "    </tr>\n",
       "  </thead>\n",
       "  <tbody>\n",
       "    <tr>\n",
       "      <th>0</th>\n",
       "      <td>2017-04-03</td>\n",
       "      <td>33.760</td>\n",
       "    </tr>\n",
       "    <tr>\n",
       "      <th>1</th>\n",
       "      <td>2017-04-04</td>\n",
       "      <td>34.140</td>\n",
       "    </tr>\n",
       "    <tr>\n",
       "      <th>2</th>\n",
       "      <td>2017-04-05</td>\n",
       "      <td>33.810</td>\n",
       "    </tr>\n",
       "    <tr>\n",
       "      <th>3</th>\n",
       "      <td>2017-04-06</td>\n",
       "      <td>34.160</td>\n",
       "    </tr>\n",
       "    <tr>\n",
       "      <th>4</th>\n",
       "      <td>2017-04-07</td>\n",
       "      <td>33.910</td>\n",
       "    </tr>\n",
       "    <tr>\n",
       "      <th>5</th>\n",
       "      <td>2017-04-10</td>\n",
       "      <td>34.060</td>\n",
       "    </tr>\n",
       "    <tr>\n",
       "      <th>6</th>\n",
       "      <td>2017-04-11</td>\n",
       "      <td>33.990</td>\n",
       "    </tr>\n",
       "    <tr>\n",
       "      <th>7</th>\n",
       "      <td>2017-04-12</td>\n",
       "      <td>34.250</td>\n",
       "    </tr>\n",
       "    <tr>\n",
       "      <th>8</th>\n",
       "      <td>2017-04-13</td>\n",
       "      <td>34.330</td>\n",
       "    </tr>\n",
       "    <tr>\n",
       "      <th>9</th>\n",
       "      <td>2017-04-17</td>\n",
       "      <td>34.440</td>\n",
       "    </tr>\n",
       "    <tr>\n",
       "      <th>10</th>\n",
       "      <td>2017-04-18</td>\n",
       "      <td>34.020</td>\n",
       "    </tr>\n",
       "    <tr>\n",
       "      <th>11</th>\n",
       "      <td>2017-04-19</td>\n",
       "      <td>33.855</td>\n",
       "    </tr>\n",
       "    <tr>\n",
       "      <th>12</th>\n",
       "      <td>2017-04-20</td>\n",
       "      <td>32.530</td>\n",
       "    </tr>\n",
       "    <tr>\n",
       "      <th>13</th>\n",
       "      <td>2017-04-21</td>\n",
       "      <td>32.180</td>\n",
       "    </tr>\n",
       "    <tr>\n",
       "      <th>14</th>\n",
       "      <td>2017-04-24</td>\n",
       "      <td>32.050</td>\n",
       "    </tr>\n",
       "    <tr>\n",
       "      <th>15</th>\n",
       "      <td>2017-04-25</td>\n",
       "      <td>32.810</td>\n",
       "    </tr>\n",
       "    <tr>\n",
       "      <th>16</th>\n",
       "      <td>2017-04-26</td>\n",
       "      <td>33.010</td>\n",
       "    </tr>\n",
       "    <tr>\n",
       "      <th>17</th>\n",
       "      <td>2017-04-27</td>\n",
       "      <td>33.060</td>\n",
       "    </tr>\n",
       "    <tr>\n",
       "      <th>18</th>\n",
       "      <td>2017-04-28</td>\n",
       "      <td>33.410</td>\n",
       "    </tr>\n",
       "    <tr>\n",
       "      <th>19</th>\n",
       "      <td>2017-05-01</td>\n",
       "      <td>33.310</td>\n",
       "    </tr>\n",
       "    <tr>\n",
       "      <th>20</th>\n",
       "      <td>2017-05-02</td>\n",
       "      <td>33.510</td>\n",
       "    </tr>\n",
       "    <tr>\n",
       "      <th>21</th>\n",
       "      <td>2017-05-03</td>\n",
       "      <td>33.260</td>\n",
       "    </tr>\n",
       "    <tr>\n",
       "      <th>22</th>\n",
       "      <td>2017-05-04</td>\n",
       "      <td>33.510</td>\n",
       "    </tr>\n",
       "    <tr>\n",
       "      <th>23</th>\n",
       "      <td>2017-05-05</td>\n",
       "      <td>33.500</td>\n",
       "    </tr>\n",
       "    <tr>\n",
       "      <th>24</th>\n",
       "      <td>2017-05-08</td>\n",
       "      <td>33.240</td>\n",
       "    </tr>\n",
       "    <tr>\n",
       "      <th>25</th>\n",
       "      <td>2017-05-09</td>\n",
       "      <td>33.720</td>\n",
       "    </tr>\n",
       "    <tr>\n",
       "      <th>26</th>\n",
       "      <td>2017-05-10</td>\n",
       "      <td>33.880</td>\n",
       "    </tr>\n",
       "    <tr>\n",
       "      <th>27</th>\n",
       "      <td>2017-05-11</td>\n",
       "      <td>34.120</td>\n",
       "    </tr>\n",
       "    <tr>\n",
       "      <th>28</th>\n",
       "      <td>2017-05-12</td>\n",
       "      <td>34.070</td>\n",
       "    </tr>\n",
       "    <tr>\n",
       "      <th>29</th>\n",
       "      <td>2017-05-15</td>\n",
       "      <td>34.180</td>\n",
       "    </tr>\n",
       "    <tr>\n",
       "      <th>...</th>\n",
       "      <td>...</td>\n",
       "      <td>...</td>\n",
       "    </tr>\n",
       "    <tr>\n",
       "      <th>76</th>\n",
       "      <td>2017-07-21</td>\n",
       "      <td>36.610</td>\n",
       "    </tr>\n",
       "    <tr>\n",
       "      <th>77</th>\n",
       "      <td>2017-07-24</td>\n",
       "      <td>36.380</td>\n",
       "    </tr>\n",
       "    <tr>\n",
       "      <th>78</th>\n",
       "      <td>2017-07-25</td>\n",
       "      <td>36.320</td>\n",
       "    </tr>\n",
       "    <tr>\n",
       "      <th>79</th>\n",
       "      <td>2017-07-26</td>\n",
       "      <td>37.040</td>\n",
       "    </tr>\n",
       "    <tr>\n",
       "      <th>80</th>\n",
       "      <td>2017-07-27</td>\n",
       "      <td>36.170</td>\n",
       "    </tr>\n",
       "    <tr>\n",
       "      <th>81</th>\n",
       "      <td>2017-07-28</td>\n",
       "      <td>35.940</td>\n",
       "    </tr>\n",
       "    <tr>\n",
       "      <th>82</th>\n",
       "      <td>2017-07-31</td>\n",
       "      <td>35.730</td>\n",
       "    </tr>\n",
       "    <tr>\n",
       "      <th>83</th>\n",
       "      <td>2017-08-01</td>\n",
       "      <td>35.910</td>\n",
       "    </tr>\n",
       "    <tr>\n",
       "      <th>84</th>\n",
       "      <td>2017-08-02</td>\n",
       "      <td>35.900</td>\n",
       "    </tr>\n",
       "    <tr>\n",
       "      <th>85</th>\n",
       "      <td>2017-08-03</td>\n",
       "      <td>35.710</td>\n",
       "    </tr>\n",
       "    <tr>\n",
       "      <th>86</th>\n",
       "      <td>2017-08-04</td>\n",
       "      <td>35.620</td>\n",
       "    </tr>\n",
       "    <tr>\n",
       "      <th>87</th>\n",
       "      <td>2017-08-07</td>\n",
       "      <td>36.110</td>\n",
       "    </tr>\n",
       "    <tr>\n",
       "      <th>88</th>\n",
       "      <td>2017-08-08</td>\n",
       "      <td>36.360</td>\n",
       "    </tr>\n",
       "    <tr>\n",
       "      <th>89</th>\n",
       "      <td>2017-08-09</td>\n",
       "      <td>36.080</td>\n",
       "    </tr>\n",
       "    <tr>\n",
       "      <th>90</th>\n",
       "      <td>2017-08-10</td>\n",
       "      <td>34.990</td>\n",
       "    </tr>\n",
       "    <tr>\n",
       "      <th>91</th>\n",
       "      <td>2017-08-11</td>\n",
       "      <td>35.050</td>\n",
       "    </tr>\n",
       "    <tr>\n",
       "      <th>92</th>\n",
       "      <td>2017-08-14</td>\n",
       "      <td>35.200</td>\n",
       "    </tr>\n",
       "    <tr>\n",
       "      <th>93</th>\n",
       "      <td>2017-08-15</td>\n",
       "      <td>35.250</td>\n",
       "    </tr>\n",
       "    <tr>\n",
       "      <th>94</th>\n",
       "      <td>2017-08-16</td>\n",
       "      <td>35.360</td>\n",
       "    </tr>\n",
       "    <tr>\n",
       "      <th>95</th>\n",
       "      <td>2017-08-17</td>\n",
       "      <td>34.850</td>\n",
       "    </tr>\n",
       "    <tr>\n",
       "      <th>96</th>\n",
       "      <td>2017-08-18</td>\n",
       "      <td>34.790</td>\n",
       "    </tr>\n",
       "    <tr>\n",
       "      <th>97</th>\n",
       "      <td>2017-08-21</td>\n",
       "      <td>34.240</td>\n",
       "    </tr>\n",
       "    <tr>\n",
       "      <th>98</th>\n",
       "      <td>2017-08-22</td>\n",
       "      <td>34.810</td>\n",
       "    </tr>\n",
       "    <tr>\n",
       "      <th>99</th>\n",
       "      <td>2017-08-23</td>\n",
       "      <td>34.890</td>\n",
       "    </tr>\n",
       "    <tr>\n",
       "      <th>100</th>\n",
       "      <td>2017-08-24</td>\n",
       "      <td>34.880</td>\n",
       "    </tr>\n",
       "    <tr>\n",
       "      <th>101</th>\n",
       "      <td>2017-08-25</td>\n",
       "      <td>34.680</td>\n",
       "    </tr>\n",
       "    <tr>\n",
       "      <th>102</th>\n",
       "      <td>2017-08-28</td>\n",
       "      <td>34.810</td>\n",
       "    </tr>\n",
       "    <tr>\n",
       "      <th>103</th>\n",
       "      <td>2017-08-29</td>\n",
       "      <td>35.200</td>\n",
       "    </tr>\n",
       "    <tr>\n",
       "      <th>104</th>\n",
       "      <td>2017-08-30</td>\n",
       "      <td>35.690</td>\n",
       "    </tr>\n",
       "    <tr>\n",
       "      <th>105</th>\n",
       "      <td>2017-08-31</td>\n",
       "      <td>36.130</td>\n",
       "    </tr>\n",
       "  </tbody>\n",
       "</table>\n",
       "<p>106 rows × 2 columns</p>\n",
       "</div>"
      ],
      "text/plain": [
       "           DATE  NASDAQ.EBAY\n",
       "0    2017-04-03       33.760\n",
       "1    2017-04-04       34.140\n",
       "2    2017-04-05       33.810\n",
       "3    2017-04-06       34.160\n",
       "4    2017-04-07       33.910\n",
       "5    2017-04-10       34.060\n",
       "6    2017-04-11       33.990\n",
       "7    2017-04-12       34.250\n",
       "8    2017-04-13       34.330\n",
       "9    2017-04-17       34.440\n",
       "10   2017-04-18       34.020\n",
       "11   2017-04-19       33.855\n",
       "12   2017-04-20       32.530\n",
       "13   2017-04-21       32.180\n",
       "14   2017-04-24       32.050\n",
       "15   2017-04-25       32.810\n",
       "16   2017-04-26       33.010\n",
       "17   2017-04-27       33.060\n",
       "18   2017-04-28       33.410\n",
       "19   2017-05-01       33.310\n",
       "20   2017-05-02       33.510\n",
       "21   2017-05-03       33.260\n",
       "22   2017-05-04       33.510\n",
       "23   2017-05-05       33.500\n",
       "24   2017-05-08       33.240\n",
       "25   2017-05-09       33.720\n",
       "26   2017-05-10       33.880\n",
       "27   2017-05-11       34.120\n",
       "28   2017-05-12       34.070\n",
       "29   2017-05-15       34.180\n",
       "..          ...          ...\n",
       "76   2017-07-21       36.610\n",
       "77   2017-07-24       36.380\n",
       "78   2017-07-25       36.320\n",
       "79   2017-07-26       37.040\n",
       "80   2017-07-27       36.170\n",
       "81   2017-07-28       35.940\n",
       "82   2017-07-31       35.730\n",
       "83   2017-08-01       35.910\n",
       "84   2017-08-02       35.900\n",
       "85   2017-08-03       35.710\n",
       "86   2017-08-04       35.620\n",
       "87   2017-08-07       36.110\n",
       "88   2017-08-08       36.360\n",
       "89   2017-08-09       36.080\n",
       "90   2017-08-10       34.990\n",
       "91   2017-08-11       35.050\n",
       "92   2017-08-14       35.200\n",
       "93   2017-08-15       35.250\n",
       "94   2017-08-16       35.360\n",
       "95   2017-08-17       34.850\n",
       "96   2017-08-18       34.790\n",
       "97   2017-08-21       34.240\n",
       "98   2017-08-22       34.810\n",
       "99   2017-08-23       34.890\n",
       "100  2017-08-24       34.880\n",
       "101  2017-08-25       34.680\n",
       "102  2017-08-28       34.810\n",
       "103  2017-08-29       35.200\n",
       "104  2017-08-30       35.690\n",
       "105  2017-08-31       36.130\n",
       "\n",
       "[106 rows x 2 columns]"
      ]
     },
     "execution_count": 13,
     "metadata": {},
     "output_type": "execute_result"
    }
   ],
   "source": [
    "df_AAPL.reset_index()\n",
    "df_ADP.reset_index()\n",
    "df_CBOE.reset_index()\n",
    "df_CSCO.reset_index()\n",
    "df_EBAY.reset_index()"
   ]
  },
  {
   "cell_type": "code",
   "execution_count": 14,
   "metadata": {},
   "outputs": [
    {
     "data": {
      "text/plain": [
       "<matplotlib.axes._subplots.AxesSubplot at 0x1632b1b8c88>"
      ]
     },
     "execution_count": 14,
     "metadata": {},
     "output_type": "execute_result"
    },
    {
     "data": {
      "image/png": "[encoded data removed]",
      "text/plain": [
       "<Figure size 432x288 with 1 Axes>"
      ]
     },
     "metadata": {
      "needs_background": "light"
     },
     "output_type": "display_data"
    }
   ],
   "source": [
    "df_AAPL.plot()"
   ]
  },
  {
   "cell_type": "code",
   "execution_count": 15,
   "metadata": {},
   "outputs": [
    {
     "data": {
      "text/plain": [
       "<matplotlib.axes._subplots.AxesSubplot at 0x1632b8c54e0>"
      ]
     },
     "execution_count": 15,
     "metadata": {},
     "output_type": "execute_result"
    },
    {
     "data": {
      "image/png": "[encoded data removed]",
      "text/plain": [
       "<Figure size 432x288 with 1 Axes>"
      ]
     },
     "metadata": {
      "needs_background": "light"
     },
     "output_type": "display_data"
    }
   ],
   "source": [
    "df_EBAY.plot()"
   ]
  },
  {
   "cell_type": "code",
   "execution_count": 16,
   "metadata": {},
   "outputs": [
    {
     "data": {
      "text/plain": [
       "<matplotlib.axes._subplots.AxesSubplot at 0x1632b9502b0>"
      ]
     },
     "execution_count": 16,
     "metadata": {},
     "output_type": "execute_result"
    },
    {
     "data": {
      "image/png": "[encoded data removed]",
      "text/plain": [
       "<Figure size 432x288 with 1 Axes>"
      ]
     },
     "metadata": {
      "needs_background": "light"
     },
     "output_type": "display_data"
    }
   ],
   "source": [
    "df_AAPL.plot()"
   ]
  },
  {
   "cell_type": "code",
   "execution_count": 17,
   "metadata": {},
   "outputs": [
    {
     "data": {
      "text/plain": [
       "<matplotlib.axes._subplots.AxesSubplot at 0x1632b99bb70>"
      ]
     },
     "execution_count": 17,
     "metadata": {},
     "output_type": "execute_result"
    },
    {
     "data": {
      "image/png": "[encoded data removed]",
      "text/plain": [
       "<Figure size 432x288 with 1 Axes>"
      ]
     },
     "metadata": {
      "needs_background": "light"
     },
     "output_type": "display_data"
    }
   ],
   "source": [
    "df_ADP.plot()"
   ]
  },
  {
   "cell_type": "code",
   "execution_count": 18,
   "metadata": {},
   "outputs": [
    {
     "data": {
      "text/plain": [
       "<matplotlib.axes._subplots.AxesSubplot at 0x1632ba0dfd0>"
      ]
     },
     "execution_count": 18,
     "metadata": {},
     "output_type": "execute_result"
    },
    {
     "data": {
      "image/png": "[encoded data removed]",
      "text/plain": [
       "<Figure size 432x288 with 1 Axes>"
      ]
     },
     "metadata": {
      "needs_background": "light"
     },
     "output_type": "display_data"
    }
   ],
   "source": [
    "df_CBOE.plot()"
   ]
  },
  {
   "cell_type": "code",
   "execution_count": 19,
   "metadata": {},
   "outputs": [
    {
     "data": {
      "text/plain": [
       "<matplotlib.axes._subplots.AxesSubplot at 0x1632ba5f080>"
      ]
     },
     "execution_count": 19,
     "metadata": {},
     "output_type": "execute_result"
    },
    {
     "data": {
      "image/png": "[encoded data removed]",
      "text/plain": [
       "<Figure size 432x288 with 1 Axes>"
      ]
     },
     "metadata": {
      "needs_background": "light"
     },
     "output_type": "display_data"
    }
   ],
   "source": [
    "pd.plotting.autocorrelation_plot(df_CBOE)"
   ]
  },
  {
   "cell_type": "code",
   "execution_count": 20,
   "metadata": {},
   "outputs": [],
   "source": [
    "#We see a clearly trend for CBOE,lets confirm by Augmented Dickey-Fuller test\n",
    "#Null Hypothesis (H0): If failed to be rejected, it suggests the time series has a unit root, meaning it is non-stationary. It has some time dependent structure.\n",
    "#Alternate Hypothesis (H1): The null hypothesis is rejected; it suggests the time series does not have a unit root, meaning it is stationary. It does not have time-dependent structure.\n",
    "#We interpret this result using the p-value from the test. A p-value below a threshold (such as 5% or 1%) suggests we reject the null hypothesis (stationary), otherwise a p-value above the threshold suggests we fail to reject the null hypothesis (non-stationary).\n",
    "# Import stats tools and libraries\n",
    "from statsmodels.tsa.stattools import adfuller\n",
    "#create a function to perform the hypothesis\n",
    "def adf_check(time_series):\n",
    "    result=adfuller(time_series)\n",
    "    print('Augmented Dicley Fuller test:')\n",
    "    labels=['ADF Test Statistics','p-value','#Lags used','Number of Observation used']\n",
    "    for value,label in zip(result,labels):\n",
    "        print(label +':'+str(value))\n",
    "    if result[1]<=0.05:\n",
    "        print(\"Strong evidence against the null hypothesis, reject the null hypothesis. Data is stationary\")\n",
    "    else:\n",
    "        print(\"Weak evidence against the null hypothesis, accept the null hypothesis. Data is not stationary\")"
   ]
  },
  {
   "cell_type": "code",
   "execution_count": 21,
   "metadata": {},
   "outputs": [
    {
     "name": "stdout",
     "output_type": "stream",
     "text": [
      "Augmented Dicley Fuller test:\n",
      "ADF Test Statistics:0.38156253866203\n",
      "p-value:0.9807921989263818\n",
      "#Lags used:1\n",
      "Number of Observation used:104\n",
      "Weak evidence against the null hypothesis, accept the null hypothesis. Data is not stationary\n"
     ]
    }
   ],
   "source": [
    "#working on CBOE \n",
    "adf_check(df_CBOE['NASDAQ.CBOE'])"
   ]
  },
  {
   "cell_type": "code",
   "execution_count": 22,
   "metadata": {},
   "outputs": [],
   "source": [
    "df_CBOE['NASDAQ.CBOE_DAY_DIFF'] = df_CBOE['NASDAQ.CBOE']- df_CBOE['NASDAQ.CBOE'].shift(1)"
   ]
  },
  {
   "cell_type": "code",
   "execution_count": 23,
   "metadata": {},
   "outputs": [
    {
     "name": "stdout",
     "output_type": "stream",
     "text": [
      "Augmented Dicley Fuller test:\n",
      "ADF Test Statistics:-12.998892336952041\n",
      "p-value:2.7133990951570865e-24\n",
      "#Lags used:0\n",
      "Number of Observation used:104\n",
      "Strong evidence against the null hypothesis, reject the null hypothesis. Data is stationary\n"
     ]
    }
   ],
   "source": [
    "adf_check(df_CBOE['NASDAQ.CBOE_DAY_DIFF'].dropna())"
   ]
  },
  {
   "cell_type": "code",
   "execution_count": 24,
   "metadata": {},
   "outputs": [
    {
     "data": {
      "text/plain": [
       "<matplotlib.axes._subplots.AxesSubplot at 0x1632b0736a0>"
      ]
     },
     "execution_count": 24,
     "metadata": {},
     "output_type": "execute_result"
    },
    {
     "data": {
      "image/png": "[encoded data removed]",
      "text/plain": [
       "<Figure size 432x288 with 1 Axes>"
      ]
     },
     "metadata": {
      "needs_background": "light"
     },
     "output_type": "display_data"
    }
   ],
   "source": [
    "df_CBOE['NASDAQ.CBOE_DAY_DIFF'].plot()"
   ]
  },
  {
   "cell_type": "code",
   "execution_count": 36,
   "metadata": {},
   "outputs": [
    {
     "name": "stderr",
     "output_type": "stream",
     "text": [
      "C:\\Users\\shurastogi\\AppData\\Local\\Continuum\\anaconda3\\lib\\site-packages\\statsmodels\\tsa\\base\\tsa_model.py:225: ValueWarning: A date index has been provided, but it has no associated frequency information and so will be ignored when e.g. forecasting.\n",
      "  ' ignored when e.g. forecasting.', ValueWarning)\n",
      "C:\\Users\\shurastogi\\AppData\\Local\\Continuum\\anaconda3\\lib\\site-packages\\statsmodels\\tsa\\statespace\\representation.py:375: FutureWarning: Using a non-tuple sequence for multidimensional indexing is deprecated; use `arr[tuple(seq)]` instead of `arr[seq]`. In the future this will be interpreted as an array index, `arr[np.array(seq)]`, which will result either in an error or a different result.\n",
      "  return matrix[[slice(None)]*(matrix.ndim-1) + [0]]\n"
     ]
    }
   ],
   "source": [
    "import statsmodels.api as sm\n",
    "from statsmodels.tsa.arima_model import ARIMA\n",
    "model=sm.tsa.statespace.SARIMAX(df_CBOE['NASDAQ.CBOE'],order=(0, 1, 1)) \n",
    "results=model.fit()"
   ]
  },
  {
   "cell_type": "code",
   "execution_count": 37,
   "metadata": {},
   "outputs": [],
   "source": [
    "from sklearn.metrics import mean_squared_error\n",
    "\n",
    "def plot_expect_to_actual(X):\n",
    "    size = int(len(X) * 0.66)\n",
    "    train, test = X[0:size], X[size:len(X)]\n",
    "    history = [x for x in train]\n",
    "    predictions = list()\n",
    "\n",
    "    for t in range(len(test)):\n",
    "        model = ARIMA(history, order=(5,1,0))\n",
    "        model_fit = model.fit(disp=0)\n",
    "        output = model_fit.forecast()\n",
    "        yhat = output[0]\n",
    "        predictions.append(yhat)\n",
    "        obs = test[t]\n",
    "        history.append(obs)\n",
    "        print('predicted=%f, expected=%f' % (yhat, obs))\n",
    "    error = mean_squared_error(test, predictions)\n",
    "    print('Test MSE: %.3f' % error)\n",
    "\n",
    "# plot\n",
    "    plt.plot(test)\n",
    "    plt.plot(predictions, color='red')\n",
    "    plt.legend(['test','prediction'])\n",
    "    plt.show()"
   ]
  },
  {
   "cell_type": "code",
   "execution_count": 38,
   "metadata": {},
   "outputs": [
    {
     "name": "stderr",
     "output_type": "stream",
     "text": [
      "C:\\Users\\shurastogi\\AppData\\Local\\Continuum\\anaconda3\\lib\\site-packages\\scipy\\signal\\signaltools.py:1341: FutureWarning: Using a non-tuple sequence for multidimensional indexing is deprecated; use `arr[tuple(seq)]` instead of `arr[seq]`. In the future this will be interpreted as an array index, `arr[np.array(seq)]`, which will result either in an error or a different result.\n",
      "  out_full[ind] += zi\n",
      "C:\\Users\\shurastogi\\AppData\\Local\\Continuum\\anaconda3\\lib\\site-packages\\scipy\\signal\\signaltools.py:1344: FutureWarning: Using a non-tuple sequence for multidimensional indexing is deprecated; use `arr[tuple(seq)]` instead of `arr[seq]`. In the future this will be interpreted as an array index, `arr[np.array(seq)]`, which will result either in an error or a different result.\n",
      "  out = out_full[ind]\n",
      "C:\\Users\\shurastogi\\AppData\\Local\\Continuum\\anaconda3\\lib\\site-packages\\scipy\\signal\\signaltools.py:1350: FutureWarning: Using a non-tuple sequence for multidimensional indexing is deprecated; use `arr[tuple(seq)]` instead of `arr[seq]`. In the future this will be interpreted as an array index, `arr[np.array(seq)]`, which will result either in an error or a different result.\n",
      "  zf = out_full[ind]\n"
     ]
    },
    {
     "name": "stdout",
     "output_type": "stream",
     "text": [
      "predicted=92.802685, expected=91.940000\n",
      "predicted=92.633375, expected=92.540000\n",
      "predicted=92.410968, expected=91.980000\n",
      "predicted=92.431884, expected=92.020000\n",
      "predicted=92.152669, expected=93.120000\n",
      "predicted=93.207390, expected=92.910000\n",
      "predicted=93.095717, expected=93.150000\n",
      "predicted=93.471593, expected=93.940000\n",
      "predicted=93.954017, expected=93.850000\n",
      "predicted=93.910354, expected=93.400000\n",
      "predicted=93.875139, expected=94.040000\n",
      "predicted=94.039819, expected=93.290000\n",
      "predicted=93.557277, expected=93.490000\n",
      "predicted=93.698822, expected=94.530000\n",
      "predicted=94.505213, expected=95.210000\n",
      "predicted=95.118827, expected=94.790000\n",
      "predicted=95.421686, expected=94.990000\n",
      "predicted=95.172372, expected=93.500000\n",
      "predicted=93.876623, expected=94.640000\n",
      "predicted=94.386992, expected=95.460000\n",
      "predicted=95.547518, expected=96.800000\n",
      "predicted=96.667195, expected=96.670000\n",
      "predicted=97.199227, expected=96.230000\n",
      "predicted=96.195425, expected=97.070000\n",
      "predicted=96.907019, expected=97.540000\n",
      "predicted=97.446033, expected=97.830000\n",
      "predicted=97.986206, expected=97.190000\n",
      "predicted=97.647659, expected=96.300000\n",
      "predicted=96.687691, expected=97.090000\n",
      "predicted=97.218968, expected=99.110000\n",
      "predicted=98.919179, expected=98.400000\n",
      "predicted=98.632314, expected=98.460000\n",
      "predicted=98.631484, expected=99.770000\n",
      "predicted=99.629118, expected=100.150000\n",
      "predicted=99.869143, expected=100.340000\n",
      "predicted=100.484554, expected=100.270000\n",
      "predicted=100.526407, expected=100.890000\n",
      "Test MSE: 0.581\n"
     ]
    },
    {
     "data": {
      "image/png": "[encoded data removed]",
      "text/plain": [
       "<Figure size 432x288 with 1 Axes>"
      ]
     },
     "metadata": {
      "needs_background": "light"
     },
     "output_type": "display_data"
    }
   ],
   "source": [
    "\n",
    "X = df_CBOE['NASDAQ.CBOE'].values\n",
    "plot_expect_to_actual(X)"
   ]
  },
  {
   "cell_type": "code",
   "execution_count": 40,
   "metadata": {},
   "outputs": [
    {
     "name": "stdout",
     "output_type": "stream",
     "text": [
      "Augmented Dicley Fuller test:\n",
      "ADF Test Statistics:-1.9408156967113954\n",
      "p-value:0.3131103044681494\n",
      "#Lags used:0\n",
      "Number of Observation used:105\n",
      "Weak evidence against the null hypothesis, accept the null hypothesis. Data is not stationary\n"
     ]
    }
   ],
   "source": [
    "#Working on ADP\n",
    "adf_check(df_ADP['NASDAQ.ADP'])"
   ]
  },
  {
   "cell_type": "code",
   "execution_count": 41,
   "metadata": {},
   "outputs": [],
   "source": [
    "df_ADP['NASDAQ.ADP_DAY_DIFF'] = df_ADP['NASDAQ.ADP']- df_ADP['NASDAQ.ADP'].shift(1)"
   ]
  },
  {
   "cell_type": "code",
   "execution_count": 42,
   "metadata": {},
   "outputs": [
    {
     "name": "stdout",
     "output_type": "stream",
     "text": [
      "Augmented Dicley Fuller test:\n",
      "ADF Test Statistics:-9.169388064849517\n",
      "p-value:2.411309740760845e-15\n",
      "#Lags used:0\n",
      "Number of Observation used:104\n",
      "Strong evidence against the null hypothesis, reject the null hypothesis. Data is stationary\n"
     ]
    }
   ],
   "source": [
    "adf_check(df_ADP['NASDAQ.ADP_DAY_DIFF'].dropna())"
   ]
  },
  {
   "cell_type": "code",
   "execution_count": 43,
   "metadata": {},
   "outputs": [
    {
     "name": "stderr",
     "output_type": "stream",
     "text": [
      "C:\\Users\\shurastogi\\AppData\\Local\\Continuum\\anaconda3\\lib\\site-packages\\statsmodels\\tsa\\base\\tsa_model.py:225: ValueWarning: A date index has been provided, but it has no associated frequency information and so will be ignored when e.g. forecasting.\n",
      "  ' ignored when e.g. forecasting.', ValueWarning)\n",
      "C:\\Users\\shurastogi\\AppData\\Local\\Continuum\\anaconda3\\lib\\site-packages\\statsmodels\\tsa\\statespace\\representation.py:375: FutureWarning: Using a non-tuple sequence for multidimensional indexing is deprecated; use `arr[tuple(seq)]` instead of `arr[seq]`. In the future this will be interpreted as an array index, `arr[np.array(seq)]`, which will result either in an error or a different result.\n",
      "  return matrix[[slice(None)]*(matrix.ndim-1) + [0]]\n"
     ]
    }
   ],
   "source": [
    "model=sm.tsa.statespace.SARIMAX(df_ADP['NASDAQ.ADP'],order=(0, 1, 1)) \n",
    "results=model.fit()"
   ]
  },
  {
   "cell_type": "code",
   "execution_count": 44,
   "metadata": {},
   "outputs": [
    {
     "name": "stderr",
     "output_type": "stream",
     "text": [
      "C:\\Users\\shurastogi\\AppData\\Local\\Continuum\\anaconda3\\lib\\site-packages\\scipy\\signal\\signaltools.py:1341: FutureWarning: Using a non-tuple sequence for multidimensional indexing is deprecated; use `arr[tuple(seq)]` instead of `arr[seq]`. In the future this will be interpreted as an array index, `arr[np.array(seq)]`, which will result either in an error or a different result.\n",
      "  out_full[ind] += zi\n",
      "C:\\Users\\shurastogi\\AppData\\Local\\Continuum\\anaconda3\\lib\\site-packages\\scipy\\signal\\signaltools.py:1344: FutureWarning: Using a non-tuple sequence for multidimensional indexing is deprecated; use `arr[tuple(seq)]` instead of `arr[seq]`. In the future this will be interpreted as an array index, `arr[np.array(seq)]`, which will result either in an error or a different result.\n",
      "  out = out_full[ind]\n",
      "C:\\Users\\shurastogi\\AppData\\Local\\Continuum\\anaconda3\\lib\\site-packages\\scipy\\signal\\signaltools.py:1350: FutureWarning: Using a non-tuple sequence for multidimensional indexing is deprecated; use `arr[tuple(seq)]` instead of `arr[seq]`. In the future this will be interpreted as an array index, `arr[np.array(seq)]`, which will result either in an error or a different result.\n",
      "  zf = out_full[ind]\n"
     ]
    },
    {
     "name": "stdout",
     "output_type": "stream",
     "text": [
      "predicted=102.571796, expected=102.500000\n",
      "predicted=102.081297, expected=101.630000\n",
      "predicted=101.348816, expected=101.350000\n",
      "predicted=101.502176, expected=101.700000\n",
      "predicted=101.456061, expected=101.305000\n",
      "predicted=101.303993, expected=102.750000\n",
      "predicted=102.536894, expected=103.340000\n",
      "predicted=103.200921, expected=104.580000\n",
      "predicted=104.748257, expected=103.540000\n",
      "predicted=103.972923, expected=103.180000\n",
      "predicted=103.480267, expected=105.980000\n",
      "predicted=105.260312, expected=115.630000\n",
      "predicted=115.930714, expected=117.380000\n",
      "predicted=117.847004, expected=118.910000\n",
      "predicted=120.807562, expected=116.780000\n",
      "predicted=116.735758, expected=115.250000\n",
      "predicted=115.554355, expected=111.770000\n",
      "predicted=111.200392, expected=111.390000\n",
      "predicted=111.417916, expected=112.170000\n",
      "predicted=112.965651, expected=108.510000\n",
      "predicted=108.663393, expected=109.660000\n",
      "predicted=109.912253, expected=108.900000\n",
      "predicted=108.954831, expected=108.810000\n",
      "predicted=109.171253, expected=109.690000\n",
      "predicted=109.893279, expected=111.580000\n",
      "predicted=111.904976, expected=111.100000\n",
      "predicted=111.368879, expected=104.680000\n",
      "predicted=103.947495, expected=104.410000\n",
      "predicted=104.080657, expected=102.890000\n",
      "predicted=102.800607, expected=103.720000\n",
      "predicted=104.416072, expected=103.460000\n",
      "predicted=103.908485, expected=104.590000\n",
      "predicted=104.805352, expected=104.590000\n",
      "predicted=104.730646, expected=104.760000\n",
      "predicted=104.728441, expected=105.130000\n",
      "predicted=105.136482, expected=105.930000\n",
      "predicted=105.980674, expected=106.470000\n",
      "Test MSE: 6.289\n"
     ]
    },
    {
     "data": {
      "image/png": "[encoded data removed]",
      "text/plain": [
       "<Figure size 432x288 with 1 Axes>"
      ]
     },
     "metadata": {
      "needs_background": "light"
     },
     "output_type": "display_data"
    }
   ],
   "source": [
    "X = df_ADP['NASDAQ.ADP'].values\n",
    "plot_expect_to_actual(X)"
   ]
  },
  {
   "cell_type": "code",
   "execution_count": 45,
   "metadata": {},
   "outputs": [
    {
     "name": "stdout",
     "output_type": "stream",
     "text": [
      "Augmented Dicley Fuller test:\n",
      "ADF Test Statistics:-0.7548287474385311\n",
      "p-value:0.8320321569640046\n",
      "#Lags used:6\n",
      "Number of Observation used:99\n",
      "Weak evidence against the null hypothesis, accept the null hypothesis. Data is not stationary\n"
     ]
    }
   ],
   "source": [
    "#working with AAPL\n",
    "adf_check(df_AAPL['NASDAQ.AAPL'])"
   ]
  },
  {
   "cell_type": "code",
   "execution_count": 48,
   "metadata": {},
   "outputs": [
    {
     "name": "stdout",
     "output_type": "stream",
     "text": [
      "Augmented Dicley Fuller test:\n",
      "ADF Test Statistics:-4.457826249063664\n",
      "p-value:0.00023417904841921747\n",
      "#Lags used:5\n",
      "Number of Observation used:99\n",
      "Strong evidence against the null hypothesis, reject the null hypothesis. Data is stationary\n"
     ]
    }
   ],
   "source": [
    "df_AAPL['NASDAQ.AAPL_DAY_DIFF'] = df_AAPL['NASDAQ.AAPL']- df_AAPL['NASDAQ.AAPL'].shift(1)\n",
    "adf_check(df_AAPL['NASDAQ.AAPL_DAY_DIFF'].dropna())"
   ]
  },
  {
   "cell_type": "code",
   "execution_count": 50,
   "metadata": {},
   "outputs": [
    {
     "name": "stderr",
     "output_type": "stream",
     "text": [
      "C:\\Users\\shurastogi\\AppData\\Local\\Continuum\\anaconda3\\lib\\site-packages\\statsmodels\\tsa\\base\\tsa_model.py:225: ValueWarning: A date index has been provided, but it has no associated frequency information and so will be ignored when e.g. forecasting.\n",
      "  ' ignored when e.g. forecasting.', ValueWarning)\n"
     ]
    }
   ],
   "source": [
    "model=sm.tsa.statespace.SARIMAX(df_AAPL['NASDAQ.AAPL'],order=(0, 1, 1)) \n",
    "results=model.fit()"
   ]
  },
  {
   "cell_type": "code",
   "execution_count": 51,
   "metadata": {},
   "outputs": [
    {
     "name": "stderr",
     "output_type": "stream",
     "text": [
      "C:\\Users\\shurastogi\\AppData\\Local\\Continuum\\anaconda3\\lib\\site-packages\\scipy\\signal\\signaltools.py:1341: FutureWarning: Using a non-tuple sequence for multidimensional indexing is deprecated; use `arr[tuple(seq)]` instead of `arr[seq]`. In the future this will be interpreted as an array index, `arr[np.array(seq)]`, which will result either in an error or a different result.\n",
      "  out_full[ind] += zi\n",
      "C:\\Users\\shurastogi\\AppData\\Local\\Continuum\\anaconda3\\lib\\site-packages\\scipy\\signal\\signaltools.py:1344: FutureWarning: Using a non-tuple sequence for multidimensional indexing is deprecated; use `arr[tuple(seq)]` instead of `arr[seq]`. In the future this will be interpreted as an array index, `arr[np.array(seq)]`, which will result either in an error or a different result.\n",
      "  out = out_full[ind]\n",
      "C:\\Users\\shurastogi\\AppData\\Local\\Continuum\\anaconda3\\lib\\site-packages\\scipy\\signal\\signaltools.py:1350: FutureWarning: Using a non-tuple sequence for multidimensional indexing is deprecated; use `arr[tuple(seq)]` instead of `arr[seq]`. In the future this will be interpreted as an array index, `arr[np.array(seq)]`, which will result either in an error or a different result.\n",
      "  zf = out_full[ind]\n"
     ]
    },
    {
     "name": "stdout",
     "output_type": "stream",
     "text": [
      "predicted=145.082805, expected=145.740000\n",
      "predicted=145.956262, expected=147.770000\n",
      "predicted=148.084920, expected=149.040000\n",
      "predicted=149.273680, expected=149.560000\n",
      "predicted=149.566150, expected=150.080000\n",
      "predicted=150.651062, expected=151.020000\n",
      "predicted=151.572887, expected=150.340000\n",
      "predicted=150.604162, expected=150.270000\n",
      "predicted=150.437176, expected=152.090000\n",
      "predicted=152.497256, expected=152.740000\n",
      "predicted=152.687398, expected=153.460000\n",
      "predicted=153.361513, expected=150.560000\n",
      "predicted=151.123902, expected=149.500000\n",
      "predicted=149.801592, expected=148.730000\n",
      "predicted=149.268244, expected=150.050000\n",
      "predicted=149.484251, expected=157.140000\n",
      "predicted=157.260643, expected=155.570000\n",
      "predicted=155.080426, expected=156.390000\n",
      "predicted=155.672299, expected=158.810000\n",
      "predicted=160.418399, expected=160.080000\n",
      "predicted=160.500497, expected=161.060000\n",
      "predicted=161.044133, expected=155.320000\n",
      "predicted=155.940053, expected=157.480000\n",
      "predicted=158.097302, expected=159.850000\n",
      "predicted=160.615081, expected=161.600000\n",
      "predicted=160.507522, expected=160.950000\n",
      "predicted=160.241091, expected=157.870000\n",
      "predicted=158.774254, expected=157.500000\n",
      "predicted=158.586595, expected=157.210000\n",
      "predicted=157.949696, expected=159.780000\n",
      "predicted=159.355022, expected=159.980000\n",
      "predicted=159.408203, expected=159.320000\n",
      "predicted=159.013530, expected=159.860000\n",
      "predicted=160.253264, expected=161.470000\n",
      "predicted=162.135410, expected=162.970000\n",
      "predicted=162.887030, expected=163.350000\n",
      "predicted=163.166829, expected=163.980000\n",
      "Test MSE: 4.105\n"
     ]
    },
    {
     "data": {
      "image/png": "[encoded data removed]",
      "text/plain": [
       "<Figure size 432x288 with 1 Axes>"
      ]
     },
     "metadata": {
      "needs_background": "light"
     },
     "output_type": "display_data"
    }
   ],
   "source": [
    "X = df_AAPL['NASDAQ.AAPL'].values\n",
    "plot_expect_to_actual(X)"
   ]
  },
  {
   "cell_type": "code",
   "execution_count": 52,
   "metadata": {},
   "outputs": [
    {
     "name": "stdout",
     "output_type": "stream",
     "text": [
      "Augmented Dicley Fuller test:\n",
      "ADF Test Statistics:-1.9580309003496117\n",
      "p-value:0.30527266508307305\n",
      "#Lags used:2\n",
      "Number of Observation used:103\n",
      "Weak evidence against the null hypothesis, accept the null hypothesis. Data is not stationary\n"
     ]
    }
   ],
   "source": [
    "adf_check(df_CSCO['NASDAQ.CSCO'])"
   ]
  },
  {
   "cell_type": "code",
   "execution_count": 53,
   "metadata": {},
   "outputs": [
    {
     "name": "stdout",
     "output_type": "stream",
     "text": [
      "Augmented Dicley Fuller test:\n",
      "ADF Test Statistics:-7.243356392481755\n",
      "p-value:1.8593983672805267e-10\n",
      "#Lags used:2\n",
      "Number of Observation used:102\n",
      "Strong evidence against the null hypothesis, reject the null hypothesis. Data is stationary\n"
     ]
    }
   ],
   "source": [
    "df_CSCO['NASDAQ.CSCO_DAY_DIFF'] = df_CSCO['NASDAQ.CSCO']- df_CSCO['NASDAQ.CSCO'].shift(1)\n",
    "adf_check(df_CSCO['NASDAQ.CSCO_DAY_DIFF'].dropna())"
   ]
  },
  {
   "cell_type": "code",
   "execution_count": 54,
   "metadata": {},
   "outputs": [
    {
     "name": "stderr",
     "output_type": "stream",
     "text": [
      "C:\\Users\\shurastogi\\AppData\\Local\\Continuum\\anaconda3\\lib\\site-packages\\statsmodels\\tsa\\base\\tsa_model.py:225: ValueWarning: A date index has been provided, but it has no associated frequency information and so will be ignored when e.g. forecasting.\n",
      "  ' ignored when e.g. forecasting.', ValueWarning)\n",
      "C:\\Users\\shurastogi\\AppData\\Local\\Continuum\\anaconda3\\lib\\site-packages\\statsmodels\\tsa\\statespace\\representation.py:375: FutureWarning: Using a non-tuple sequence for multidimensional indexing is deprecated; use `arr[tuple(seq)]` instead of `arr[seq]`. In the future this will be interpreted as an array index, `arr[np.array(seq)]`, which will result either in an error or a different result.\n",
      "  return matrix[[slice(None)]*(matrix.ndim-1) + [0]]\n"
     ]
    }
   ],
   "source": [
    "model=sm.tsa.statespace.SARIMAX(df_CSCO['NASDAQ.CSCO'],order=(0, 1, 1)) \n",
    "results=model.fit()"
   ]
  },
  {
   "cell_type": "code",
   "execution_count": 55,
   "metadata": {},
   "outputs": [
    {
     "name": "stderr",
     "output_type": "stream",
     "text": [
      "C:\\Users\\shurastogi\\AppData\\Local\\Continuum\\anaconda3\\lib\\site-packages\\scipy\\signal\\signaltools.py:1341: FutureWarning: Using a non-tuple sequence for multidimensional indexing is deprecated; use `arr[tuple(seq)]` instead of `arr[seq]`. In the future this will be interpreted as an array index, `arr[np.array(seq)]`, which will result either in an error or a different result.\n",
      "  out_full[ind] += zi\n",
      "C:\\Users\\shurastogi\\AppData\\Local\\Continuum\\anaconda3\\lib\\site-packages\\scipy\\signal\\signaltools.py:1344: FutureWarning: Using a non-tuple sequence for multidimensional indexing is deprecated; use `arr[tuple(seq)]` instead of `arr[seq]`. In the future this will be interpreted as an array index, `arr[np.array(seq)]`, which will result either in an error or a different result.\n",
      "  out = out_full[ind]\n",
      "C:\\Users\\shurastogi\\AppData\\Local\\Continuum\\anaconda3\\lib\\site-packages\\scipy\\signal\\signaltools.py:1350: FutureWarning: Using a non-tuple sequence for multidimensional indexing is deprecated; use `arr[tuple(seq)]` instead of `arr[seq]`. In the future this will be interpreted as an array index, `arr[np.array(seq)]`, which will result either in an error or a different result.\n",
      "  zf = out_full[ind]\n"
     ]
    },
    {
     "name": "stdout",
     "output_type": "stream",
     "text": [
      "predicted=30.979910, expected=31.160000\n",
      "predicted=31.140904, expected=31.270000\n",
      "predicted=31.224130, expected=31.420000\n",
      "predicted=31.393881, expected=31.500000\n",
      "predicted=31.447381, expected=31.510000\n",
      "predicted=31.458602, expected=31.900000\n",
      "predicted=31.939207, expected=31.860000\n",
      "predicted=31.782964, expected=31.840000\n",
      "predicted=31.755851, expected=31.860000\n",
      "predicted=31.904677, expected=32.120000\n",
      "predicted=32.121846, expected=31.660000\n",
      "predicted=31.532475, expected=31.570000\n",
      "predicted=31.555621, expected=31.520000\n",
      "predicted=31.612575, expected=31.450000\n",
      "predicted=31.353773, expected=31.650000\n",
      "predicted=31.675199, expected=31.520000\n",
      "predicted=31.458990, expected=31.560000\n",
      "predicted=31.518698, expected=31.800000\n",
      "predicted=31.852288, expected=31.840000\n",
      "predicted=31.763423, expected=31.670000\n",
      "predicted=31.594593, expected=31.620000\n",
      "predicted=31.638489, expected=31.000000\n",
      "predicted=30.919959, expected=31.470000\n",
      "predicted=31.553047, expected=31.840000\n",
      "predicted=31.889277, expected=32.090000\n",
      "predicted=31.902757, expected=32.340000\n",
      "predicted=32.326780, expected=31.040000\n",
      "predicted=30.869508, expected=30.370000\n",
      "predicted=30.429376, expected=30.680000\n",
      "predicted=31.040266, expected=31.270000\n",
      "predicted=31.356986, expected=30.920000\n",
      "predicted=30.619242, expected=31.240000\n",
      "predicted=31.235482, expected=31.440000\n",
      "predicted=31.442079, expected=31.540000\n",
      "predicted=31.389972, expected=31.480000\n",
      "predicted=31.424855, expected=31.990000\n",
      "predicted=32.014874, expected=32.225000\n",
      "Test MSE: 0.131\n"
     ]
    },
    {
     "data": {
      "image/png": "[encoded data removed]",
      "text/plain": [
       "<Figure size 432x288 with 1 Axes>"
      ]
     },
     "metadata": {
      "needs_background": "light"
     },
     "output_type": "display_data"
    }
   ],
   "source": [
    "X = df_CSCO['NASDAQ.CSCO'].values\n",
    "plot_expect_to_actual(X)"
   ]
  },
  {
   "cell_type": "code",
   "execution_count": 56,
   "metadata": {},
   "outputs": [
    {
     "name": "stdout",
     "output_type": "stream",
     "text": [
      "Augmented Dicley Fuller test:\n",
      "ADF Test Statistics:-1.9918006634436403\n",
      "p-value:0.2901797544116289\n",
      "#Lags used:0\n",
      "Number of Observation used:105\n",
      "Weak evidence against the null hypothesis, accept the null hypothesis. Data is not stationary\n"
     ]
    }
   ],
   "source": [
    "adf_check(df_EBAY['NASDAQ.EBAY'])"
   ]
  },
  {
   "cell_type": "code",
   "execution_count": 57,
   "metadata": {},
   "outputs": [
    {
     "name": "stdout",
     "output_type": "stream",
     "text": [
      "Augmented Dicley Fuller test:\n",
      "ADF Test Statistics:-4.105328241694481\n",
      "p-value:0.0009490688005263558\n",
      "#Lags used:6\n",
      "Number of Observation used:98\n",
      "Strong evidence against the null hypothesis, reject the null hypothesis. Data is stationary\n"
     ]
    }
   ],
   "source": [
    "df_EBAY['NASDAQ.EBAY_DAY_DIFF'] = df_EBAY['NASDAQ.EBAY']- df_EBAY['NASDAQ.EBAY'].shift(1)\n",
    "adf_check(df_EBAY['NASDAQ.EBAY_DAY_DIFF'].dropna())"
   ]
  },
  {
   "cell_type": "code",
   "execution_count": 58,
   "metadata": {},
   "outputs": [
    {
     "name": "stderr",
     "output_type": "stream",
     "text": [
      "C:\\Users\\shurastogi\\AppData\\Local\\Continuum\\anaconda3\\lib\\site-packages\\statsmodels\\tsa\\base\\tsa_model.py:225: ValueWarning: A date index has been provided, but it has no associated frequency information and so will be ignored when e.g. forecasting.\n",
      "  ' ignored when e.g. forecasting.', ValueWarning)\n",
      "C:\\Users\\shurastogi\\AppData\\Local\\Continuum\\anaconda3\\lib\\site-packages\\statsmodels\\tsa\\statespace\\representation.py:375: FutureWarning: Using a non-tuple sequence for multidimensional indexing is deprecated; use `arr[tuple(seq)]` instead of `arr[seq]`. In the future this will be interpreted as an array index, `arr[np.array(seq)]`, which will result either in an error or a different result.\n",
      "  return matrix[[slice(None)]*(matrix.ndim-1) + [0]]\n"
     ]
    }
   ],
   "source": [
    "model=sm.tsa.statespace.SARIMAX(df_EBAY['NASDAQ.EBAY'],order=(0, 1, 1)) \n",
    "results=model.fit()"
   ]
  },
  {
   "cell_type": "code",
   "execution_count": 59,
   "metadata": {},
   "outputs": [
    {
     "name": "stderr",
     "output_type": "stream",
     "text": [
      "C:\\Users\\shurastogi\\AppData\\Local\\Continuum\\anaconda3\\lib\\site-packages\\scipy\\signal\\signaltools.py:1341: FutureWarning: Using a non-tuple sequence for multidimensional indexing is deprecated; use `arr[tuple(seq)]` instead of `arr[seq]`. In the future this will be interpreted as an array index, `arr[np.array(seq)]`, which will result either in an error or a different result.\n",
      "  out_full[ind] += zi\n",
      "C:\\Users\\shurastogi\\AppData\\Local\\Continuum\\anaconda3\\lib\\site-packages\\scipy\\signal\\signaltools.py:1344: FutureWarning: Using a non-tuple sequence for multidimensional indexing is deprecated; use `arr[tuple(seq)]` instead of `arr[seq]`. In the future this will be interpreted as an array index, `arr[np.array(seq)]`, which will result either in an error or a different result.\n",
      "  out = out_full[ind]\n",
      "C:\\Users\\shurastogi\\AppData\\Local\\Continuum\\anaconda3\\lib\\site-packages\\scipy\\signal\\signaltools.py:1350: FutureWarning: Using a non-tuple sequence for multidimensional indexing is deprecated; use `arr[tuple(seq)]` instead of `arr[seq]`. In the future this will be interpreted as an array index, `arr[np.array(seq)]`, which will result either in an error or a different result.\n",
      "  zf = out_full[ind]\n"
     ]
    },
    {
     "name": "stdout",
     "output_type": "stream",
     "text": [
      "predicted=35.131007, expected=36.030000\n",
      "predicted=36.065877, expected=36.500000\n",
      "predicted=36.410772, expected=37.080000\n",
      "predicted=36.935856, expected=37.050000\n",
      "predicted=37.046780, expected=36.800000\n",
      "predicted=36.642800, expected=37.080000\n",
      "predicted=37.030616, expected=37.180000\n",
      "predicted=37.153488, expected=36.610000\n",
      "predicted=36.668768, expected=36.380000\n",
      "predicted=36.457434, expected=36.320000\n",
      "predicted=36.324148, expected=37.040000\n",
      "predicted=37.095362, expected=36.170000\n",
      "predicted=36.342115, expected=35.940000\n",
      "predicted=35.991380, expected=35.730000\n",
      "predicted=35.835127, expected=35.910000\n",
      "predicted=35.814330, expected=35.900000\n",
      "predicted=36.068266, expected=35.710000\n",
      "predicted=35.753926, expected=35.620000\n",
      "predicted=35.680080, expected=36.110000\n",
      "predicted=36.119742, expected=36.360000\n",
      "predicted=36.387263, expected=36.080000\n",
      "predicted=36.104212, expected=34.990000\n",
      "predicted=35.021365, expected=35.050000\n",
      "predicted=35.076454, expected=35.200000\n",
      "predicted=35.268075, expected=35.250000\n",
      "predicted=35.237514, expected=35.360000\n",
      "predicted=35.501056, expected=34.850000\n",
      "predicted=34.856280, expected=34.790000\n",
      "predicted=34.800091, expected=34.240000\n",
      "predicted=34.292236, expected=34.810000\n",
      "predicted=34.803318, expected=34.890000\n",
      "predicted=34.988103, expected=34.880000\n",
      "predicted=34.814996, expected=34.680000\n",
      "predicted=34.754351, expected=34.810000\n",
      "predicted=34.782139, expected=35.200000\n",
      "predicted=35.223500, expected=35.690000\n",
      "predicted=35.676923, expected=36.130000\n",
      "Test MSE: 0.193\n"
     ]
    },
    {
     "data": {
      "image/png": "[encoded data removed]",
      "text/plain": [
       "<Figure size 432x288 with 1 Axes>"
      ]
     },
     "metadata": {
      "needs_background": "light"
     },
     "output_type": "display_data"
    }
   ],
   "source": [
    "X = df_EBAY['NASDAQ.EBAY'].values\n",
    "plot_expect_to_actual(X)"
   ]
  }
 ],
 "metadata": {
  "kernelspec": {
   "display_name": "Python 3",
   "language": "python",
   "name": "python3"
  },
  "language_info": {
   "codemirror_mode": {
    "name": "ipython",
    "version": 3
   },
   "file_extension": ".py",
   "mimetype": "text/x-python",
   "name": "python",
   "nbconvert_exporter": "python",
   "pygments_lexer": "ipython3",
   "version": "3.7.1"
  }
 },
 "nbformat": 4,
 "nbformat_minor": 2
}
